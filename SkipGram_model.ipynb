{
  "nbformat": 4,
  "nbformat_minor": 0,
  "metadata": {
    "colab": {
      "name": "SkipGram model.ipynb",
      "provenance": [],
      "collapsed_sections": []
    },
    "kernelspec": {
      "name": "python3",
      "display_name": "Python 3"
    },
    "language_info": {
      "name": "python"
    }
  },
  "cells": [
    {
      "cell_type": "code",
      "execution_count": 2,
      "metadata": {
        "id": "gZDsYjshDd32"
      },
      "outputs": [],
      "source": [
        "import torch\n",
        "torch.manual_seed(10)\n",
        "from torch.autograd import Variable\n",
        "from torch.utils.data import DataLoader\n",
        "import pandas as pd\n",
        "import numpy as np\n",
        "from sklearn import decomposition\n",
        "from pathlib import Path\n",
        "import warnings\n",
        "warnings.filterwarnings(\"ignore\")\n",
        "import seaborn as sns\n",
        "from matplotlib import pyplot as plt\n",
        "plt.rcParams['figure.figsize'] = (10,8)\n",
        "import nltk\n",
        "#Import stopwords\n",
        "from nltk.corpus import stopwords"
      ]
    },
    {
      "cell_type": "markdown",
      "source": [
        "## data used"
      ],
      "metadata": {
        "id": "hlbcP4vFOe0v"
      }
    },
    {
      "cell_type": "code",
      "source": [
        "corpus = [\n",
        "    'drink milk',\n",
        "    'drink cold water',\n",
        "    'drink cold cola',\n",
        "    'drink juice',\n",
        "    'drink cola',\n",
        "    'eat bacon',\n",
        "    'eat mango',\n",
        "    'eat cherry',\n",
        "    'eat apple',\n",
        "    'juice with sugar',\n",
        "    'cola with sugar',\n",
        "    'mango is fruit',\n",
        "    'apple is fruit',\n",
        "    'cherry is fruit',\n",
        "    'Berlin is Germany',\n",
        "    'Boston is USA',\n",
        "    'Mercedes from Germany',\n",
        "    'Mercedes is a car',\n",
        "    'Ford from USA',\n",
        "    'Ford is a car'\n",
        "]"
      ],
      "metadata": {
        "id": "GDwM3MCUD7hW"
      },
      "execution_count": 3,
      "outputs": []
    },
    {
      "cell_type": "code",
      "source": [
        "def create_vocabulary(corpus):\n",
        "    '''Creates a dictionary with all unique words in corpus with id'''\n",
        "    vocabulary = {}\n",
        "    i = 0\n",
        "    for s in corpus:\n",
        "        for w in s.split():\n",
        "            if w not in vocabulary:\n",
        "                vocabulary[w] = i\n",
        "                i+=1\n",
        "    return vocabulary\n",
        "\n",
        "def prepare_set(corpus, n_gram = 1):\n",
        "    '''Creates a dataset with Input column and Outputs columns for neighboring words. \n",
        "       The number of neighbors = n_gram*2'''\n",
        "    columns = ['Input'] + [f'Output{i+1}' for i in range(n_gram*2)]\n",
        "    result = pd.DataFrame(columns = columns)\n",
        "    for sentence in corpus:\n",
        "        for i,w in enumerate(sentence.split()):\n",
        "            inp = [w]\n",
        "            out = []\n",
        "            for n in range(1,n_gram+1):\n",
        "                # look back\n",
        "                if (i-n)>=0:\n",
        "                    out.append(sentence.split()[i-n])\n",
        "                else:\n",
        "                    out.append('<padding>')\n",
        "                    # look forward\n",
        "                if (i+n)<len(sentence.split()):\n",
        "                    out.append(sentence.split()[i+n])\n",
        "                else:\n",
        "                    out.append('<padding>')\n",
        "            row = pd.DataFrame([inp+out], columns = columns)\n",
        "            result = result.append(row, ignore_index = True)\n",
        "    return result\n",
        "def prepare_set_ravel(corpus, n_gram = 1):\n",
        "    '''Creates a dataset with Input column and Output column for neighboring words. \n",
        "       The number of neighbors = n_gram*2'''\n",
        "    columns = ['Input', 'Output']\n",
        "    result = pd.DataFrame(columns = columns)\n",
        "    for sentence in corpus:\n",
        "        for i,w in enumerate(sentence.split()):\n",
        "            inp = w\n",
        "            for n in range(1,n_gram+1):\n",
        "                # look back\n",
        "                if (i-n)>=0:\n",
        "                    out = sentence.split()[i-n]\n",
        "                    row = pd.DataFrame([[inp,out]], columns = columns)\n",
        "                    result = result.append(row, ignore_index = True)\n",
        "                    # look forward\n",
        "                if (i+n)<len(sentence.split()):\n",
        "                    out = sentence.split()[i+n]\n",
        "                    row = pd.DataFrame([[inp,out]], columns = columns)\n",
        "                    result = result.append(row, ignore_index = True)\n",
        "    return result\n",
        "\n"
      ],
      "metadata": {
        "id": "hstc30XfEIZi"
      },
      "execution_count": 4,
      "outputs": []
    },
    {
      "cell_type": "markdown",
      "source": [
        "## Preprocessing steps"
      ],
      "metadata": {
        "id": "Ta92WmfwPIH_"
      }
    },
    {
      "cell_type": "code",
      "source": [
        "import nltk\n",
        "nltk.download('stopwords')"
      ],
      "metadata": {
        "colab": {
          "base_uri": "https://localhost:8080/"
        },
        "id": "pjMNfMH7E3Ev",
        "outputId": "796e1988-08d0-43fd-838c-da14e94db69a"
      },
      "execution_count": 6,
      "outputs": [
        {
          "output_type": "stream",
          "name": "stdout",
          "text": [
            "[nltk_data] Downloading package stopwords to /root/nltk_data...\n",
            "[nltk_data]   Unzipping corpora/stopwords.zip.\n"
          ]
        },
        {
          "output_type": "execute_result",
          "data": {
            "text/plain": [
              "True"
            ]
          },
          "metadata": {},
          "execution_count": 6
        }
      ]
    },
    {
      "cell_type": "code",
      "source": [
        "import nltk\n",
        "nltk.download('punkt')"
      ],
      "metadata": {
        "colab": {
          "base_uri": "https://localhost:8080/"
        },
        "id": "S9xohtOTFCUm",
        "outputId": "821cc14b-8940-4ec9-bd02-84eb52c336a6"
      },
      "execution_count": 8,
      "outputs": [
        {
          "output_type": "stream",
          "name": "stdout",
          "text": [
            "[nltk_data] Downloading package punkt to /root/nltk_data...\n",
            "[nltk_data]   Unzipping tokenizers/punkt.zip.\n"
          ]
        },
        {
          "output_type": "execute_result",
          "data": {
            "text/plain": [
              "True"
            ]
          },
          "metadata": {},
          "execution_count": 8
        }
      ]
    },
    {
      "cell_type": "markdown",
      "source": [
        "stop words are removed from the vocabulary"
      ],
      "metadata": {
        "id": "-npo_HFfPNIX"
      }
    },
    {
      "cell_type": "code",
      "source": [
        "stop_words = set(stopwords.words('english'))\n",
        "\n",
        "def preprocess(corpus):\n",
        "    result = []\n",
        "    for i in corpus:\n",
        "        out = nltk.word_tokenize(i)\n",
        "        out = [x.lower() for x in out]\n",
        "        out = [x for x in out if x not in stop_words]\n",
        "        result.append(\" \". join(out))\n",
        "    return result\n",
        "\n",
        "corpus = preprocess(corpus)\n",
        "corpus"
      ],
      "metadata": {
        "colab": {
          "base_uri": "https://localhost:8080/"
        },
        "id": "rwLZrQ3OEIca",
        "outputId": "7933e869-1184-40d9-9cbe-ca09a13fe8f5"
      },
      "execution_count": 9,
      "outputs": [
        {
          "output_type": "execute_result",
          "data": {
            "text/plain": [
              "['drink milk',\n",
              " 'drink cold water',\n",
              " 'drink cold cola',\n",
              " 'drink juice',\n",
              " 'drink cola',\n",
              " 'eat bacon',\n",
              " 'eat mango',\n",
              " 'eat cherry',\n",
              " 'eat apple',\n",
              " 'juice sugar',\n",
              " 'cola sugar',\n",
              " 'mango fruit',\n",
              " 'apple fruit',\n",
              " 'cherry fruit',\n",
              " 'berlin germany',\n",
              " 'boston usa',\n",
              " 'mercedes germany',\n",
              " 'mercedes car',\n",
              " 'ford usa',\n",
              " 'ford car']"
            ]
          },
          "metadata": {},
          "execution_count": 9
        }
      ]
    },
    {
      "cell_type": "markdown",
      "source": [
        "Here we are creating a vocabulary which gives id for each word appearing in corpus."
      ],
      "metadata": {
        "id": "99PW0JWiPCnE"
      }
    },
    {
      "cell_type": "code",
      "source": [
        "vocabulary = create_vocabulary(corpus)\n",
        "vocabulary"
      ],
      "metadata": {
        "colab": {
          "base_uri": "https://localhost:8080/"
        },
        "id": "2ow4UjLvFIIr",
        "outputId": "81a7dd92-0b94-425f-d2f5-fd5e08101245"
      },
      "execution_count": 10,
      "outputs": [
        {
          "output_type": "execute_result",
          "data": {
            "text/plain": [
              "{'apple': 10,\n",
              " 'bacon': 7,\n",
              " 'berlin': 13,\n",
              " 'boston': 15,\n",
              " 'car': 18,\n",
              " 'cherry': 9,\n",
              " 'cola': 4,\n",
              " 'cold': 2,\n",
              " 'drink': 0,\n",
              " 'eat': 6,\n",
              " 'ford': 19,\n",
              " 'fruit': 12,\n",
              " 'germany': 14,\n",
              " 'juice': 5,\n",
              " 'mango': 8,\n",
              " 'mercedes': 17,\n",
              " 'milk': 1,\n",
              " 'sugar': 11,\n",
              " 'usa': 16,\n",
              " 'water': 3}"
            ]
          },
          "metadata": {},
          "execution_count": 10
        }
      ]
    },
    {
      "cell_type": "markdown",
      "source": [
        "We are taking two neighbors from each side of center word. We can see many padding tokens, that is because maximal length of our sentences is 3, which is why each word will have at least two neighbors being padding."
      ],
      "metadata": {
        "id": "x7j3He7APmKo"
      }
    },
    {
      "cell_type": "code",
      "source": [
        "train_emb = prepare_set(corpus, n_gram = 2)\n",
        "train_emb.head()"
      ],
      "metadata": {
        "colab": {
          "base_uri": "https://localhost:8080/",
          "height": 206
        },
        "id": "Aihrq8rcFIVu",
        "outputId": "f4e52b2b-d2ba-4dab-b324-53f547d7d1b0"
      },
      "execution_count": 11,
      "outputs": [
        {
          "output_type": "execute_result",
          "data": {
            "text/html": [
              "<div>\n",
              "<style scoped>\n",
              "    .dataframe tbody tr th:only-of-type {\n",
              "        vertical-align: middle;\n",
              "    }\n",
              "\n",
              "    .dataframe tbody tr th {\n",
              "        vertical-align: top;\n",
              "    }\n",
              "\n",
              "    .dataframe thead th {\n",
              "        text-align: right;\n",
              "    }\n",
              "</style>\n",
              "<table border=\"1\" class=\"dataframe\">\n",
              "  <thead>\n",
              "    <tr style=\"text-align: right;\">\n",
              "      <th></th>\n",
              "      <th>Input</th>\n",
              "      <th>Output1</th>\n",
              "      <th>Output2</th>\n",
              "      <th>Output3</th>\n",
              "      <th>Output4</th>\n",
              "    </tr>\n",
              "  </thead>\n",
              "  <tbody>\n",
              "    <tr>\n",
              "      <th>0</th>\n",
              "      <td>drink</td>\n",
              "      <td>&lt;padding&gt;</td>\n",
              "      <td>milk</td>\n",
              "      <td>&lt;padding&gt;</td>\n",
              "      <td>&lt;padding&gt;</td>\n",
              "    </tr>\n",
              "    <tr>\n",
              "      <th>1</th>\n",
              "      <td>milk</td>\n",
              "      <td>drink</td>\n",
              "      <td>&lt;padding&gt;</td>\n",
              "      <td>&lt;padding&gt;</td>\n",
              "      <td>&lt;padding&gt;</td>\n",
              "    </tr>\n",
              "    <tr>\n",
              "      <th>2</th>\n",
              "      <td>drink</td>\n",
              "      <td>&lt;padding&gt;</td>\n",
              "      <td>cold</td>\n",
              "      <td>&lt;padding&gt;</td>\n",
              "      <td>water</td>\n",
              "    </tr>\n",
              "    <tr>\n",
              "      <th>3</th>\n",
              "      <td>cold</td>\n",
              "      <td>drink</td>\n",
              "      <td>water</td>\n",
              "      <td>&lt;padding&gt;</td>\n",
              "      <td>&lt;padding&gt;</td>\n",
              "    </tr>\n",
              "    <tr>\n",
              "      <th>4</th>\n",
              "      <td>water</td>\n",
              "      <td>cold</td>\n",
              "      <td>&lt;padding&gt;</td>\n",
              "      <td>drink</td>\n",
              "      <td>&lt;padding&gt;</td>\n",
              "    </tr>\n",
              "  </tbody>\n",
              "</table>\n",
              "</div>"
            ],
            "text/plain": [
              "   Input    Output1    Output2    Output3    Output4\n",
              "0  drink  <padding>       milk  <padding>  <padding>\n",
              "1   milk      drink  <padding>  <padding>  <padding>\n",
              "2  drink  <padding>       cold  <padding>      water\n",
              "3   cold      drink      water  <padding>  <padding>\n",
              "4  water       cold  <padding>      drink  <padding>"
            ]
          },
          "metadata": {},
          "execution_count": 11
        }
      ]
    },
    {
      "cell_type": "code",
      "source": [
        "train_emb = prepare_set_ravel(corpus, n_gram = 2)\n",
        "train_emb.head()"
      ],
      "metadata": {
        "colab": {
          "base_uri": "https://localhost:8080/",
          "height": 206
        },
        "id": "gPjOltuaFhIu",
        "outputId": "80c00f1c-bc0b-49a6-a553-d3068256ca98"
      },
      "execution_count": 12,
      "outputs": [
        {
          "output_type": "execute_result",
          "data": {
            "text/html": [
              "<div>\n",
              "<style scoped>\n",
              "    .dataframe tbody tr th:only-of-type {\n",
              "        vertical-align: middle;\n",
              "    }\n",
              "\n",
              "    .dataframe tbody tr th {\n",
              "        vertical-align: top;\n",
              "    }\n",
              "\n",
              "    .dataframe thead th {\n",
              "        text-align: right;\n",
              "    }\n",
              "</style>\n",
              "<table border=\"1\" class=\"dataframe\">\n",
              "  <thead>\n",
              "    <tr style=\"text-align: right;\">\n",
              "      <th></th>\n",
              "      <th>Input</th>\n",
              "      <th>Output</th>\n",
              "    </tr>\n",
              "  </thead>\n",
              "  <tbody>\n",
              "    <tr>\n",
              "      <th>0</th>\n",
              "      <td>drink</td>\n",
              "      <td>milk</td>\n",
              "    </tr>\n",
              "    <tr>\n",
              "      <th>1</th>\n",
              "      <td>milk</td>\n",
              "      <td>drink</td>\n",
              "    </tr>\n",
              "    <tr>\n",
              "      <th>2</th>\n",
              "      <td>drink</td>\n",
              "      <td>cold</td>\n",
              "    </tr>\n",
              "    <tr>\n",
              "      <th>3</th>\n",
              "      <td>drink</td>\n",
              "      <td>water</td>\n",
              "    </tr>\n",
              "    <tr>\n",
              "      <th>4</th>\n",
              "      <td>cold</td>\n",
              "      <td>drink</td>\n",
              "    </tr>\n",
              "  </tbody>\n",
              "</table>\n",
              "</div>"
            ],
            "text/plain": [
              "   Input Output\n",
              "0  drink   milk\n",
              "1   milk  drink\n",
              "2  drink   cold\n",
              "3  drink  water\n",
              "4   cold  drink"
            ]
          },
          "metadata": {},
          "execution_count": 12
        }
      ]
    },
    {
      "cell_type": "markdown",
      "source": [
        "## Words are replaced with indexes to be prepared for training."
      ],
      "metadata": {
        "id": "uRtP7ZqRQWef"
      }
    },
    {
      "cell_type": "code",
      "source": [
        "train_emb.Input = train_emb.Input.map(vocabulary)\n",
        "train_emb.Output = train_emb.Output.map(vocabulary)\n",
        "train_emb.head()"
      ],
      "metadata": {
        "colab": {
          "base_uri": "https://localhost:8080/",
          "height": 206
        },
        "id": "hZSe3iFYFhMF",
        "outputId": "ad89c5e0-47a8-4d51-92d9-b618fa26a2a7"
      },
      "execution_count": 13,
      "outputs": [
        {
          "output_type": "execute_result",
          "data": {
            "text/html": [
              "<div>\n",
              "<style scoped>\n",
              "    .dataframe tbody tr th:only-of-type {\n",
              "        vertical-align: middle;\n",
              "    }\n",
              "\n",
              "    .dataframe tbody tr th {\n",
              "        vertical-align: top;\n",
              "    }\n",
              "\n",
              "    .dataframe thead th {\n",
              "        text-align: right;\n",
              "    }\n",
              "</style>\n",
              "<table border=\"1\" class=\"dataframe\">\n",
              "  <thead>\n",
              "    <tr style=\"text-align: right;\">\n",
              "      <th></th>\n",
              "      <th>Input</th>\n",
              "      <th>Output</th>\n",
              "    </tr>\n",
              "  </thead>\n",
              "  <tbody>\n",
              "    <tr>\n",
              "      <th>0</th>\n",
              "      <td>0</td>\n",
              "      <td>1</td>\n",
              "    </tr>\n",
              "    <tr>\n",
              "      <th>1</th>\n",
              "      <td>1</td>\n",
              "      <td>0</td>\n",
              "    </tr>\n",
              "    <tr>\n",
              "      <th>2</th>\n",
              "      <td>0</td>\n",
              "      <td>2</td>\n",
              "    </tr>\n",
              "    <tr>\n",
              "      <th>3</th>\n",
              "      <td>0</td>\n",
              "      <td>3</td>\n",
              "    </tr>\n",
              "    <tr>\n",
              "      <th>4</th>\n",
              "      <td>2</td>\n",
              "      <td>0</td>\n",
              "    </tr>\n",
              "  </tbody>\n",
              "</table>\n",
              "</div>"
            ],
            "text/plain": [
              "   Input  Output\n",
              "0      0       1\n",
              "1      1       0\n",
              "2      0       2\n",
              "3      0       3\n",
              "4      2       0"
            ]
          },
          "metadata": {},
          "execution_count": 13
        }
      ]
    },
    {
      "cell_type": "code",
      "source": [
        "vocab_size = len(vocabulary)\n",
        "\n",
        "def get_input_tensor(tensor):\n",
        "    '''Transform 1D tensor of word indexes to one-hot encoded 2D tensor'''\n",
        "    size = [*tensor.shape][0]\n",
        "    inp = torch.zeros(size, vocab_size).scatter_(1, tensor.unsqueeze(1), 1.)\n",
        "    return Variable(inp).float()"
      ],
      "metadata": {
        "id": "XRARr_6CF3WY"
      },
      "execution_count": 14,
      "outputs": []
    },
    {
      "cell_type": "code",
      "source": [
        "embedding_dims = 5\n",
        "device = torch.device('cpu')"
      ],
      "metadata": {
        "id": "QdMUvks6F_qv"
      },
      "execution_count": 15,
      "outputs": []
    },
    {
      "cell_type": "code",
      "source": [
        "initrange = 0.5 / embedding_dims\n",
        "W1 = Variable(torch.randn(vocab_size, embedding_dims, device=device).uniform_(-initrange, initrange).float(), requires_grad=True) # shape V*H\n",
        "W2 = Variable(torch.randn(embedding_dims, vocab_size, device=device).uniform_(-initrange, initrange).float(), requires_grad=True) #shape H*V\n",
        "print(f'W1 shape is: {W1.shape}, W2 shape is: {W2.shape}')"
      ],
      "metadata": {
        "colab": {
          "base_uri": "https://localhost:8080/"
        },
        "id": "BhIYItWqF_uU",
        "outputId": "b26ad889-21c2-4e48-83ed-7f2caf27faf9"
      },
      "execution_count": 16,
      "outputs": [
        {
          "output_type": "stream",
          "name": "stdout",
          "text": [
            "W1 shape is: torch.Size([20, 5]), W2 shape is: torch.Size([5, 20])\n"
          ]
        }
      ]
    },
    {
      "cell_type": "code",
      "source": [
        "num_epochs = 2000\n",
        "learning_rate = 2e-1\n",
        "lr_decay = 0.99\n",
        "loss_hist = []"
      ],
      "metadata": {
        "id": "YfpjxqZKF3Zw"
      },
      "execution_count": 17,
      "outputs": []
    },
    {
      "cell_type": "code",
      "source": [
        "%%time\n",
        "for epo in range(num_epochs):\n",
        "    for x,y in zip(DataLoader(train_emb.Input.values, batch_size=train_emb.shape[0]), DataLoader(train_emb.Output.values, batch_size=train_emb.shape[0])):\n",
        "        \n",
        "        # one-hot encode input tensor\n",
        "        input_tensor = get_input_tensor(x) #shape N*V\n",
        "     \n",
        "        # simple NN architecture\n",
        "        h = input_tensor.mm(W1) # shape 1*H\n",
        "        y_pred = h.mm(W2) # shape 1*V\n",
        "        # define loss func\n",
        "        loss_f = torch.nn.CrossEntropyLoss() # see details: https://pytorch.org/docs/stable/nn.html\n",
        "        \n",
        "        #compute loss\n",
        "        loss = loss_f(y_pred, y)\n",
        "        \n",
        "        # bakpropagation step\n",
        "        loss.backward()\n",
        "        with torch.no_grad():\n",
        "            # SGD optimization is implemented in PyTorch, but it's very easy to implement manually providing better understanding of process\n",
        "            W1 -= learning_rate*W1.grad.data\n",
        "            W2 -= learning_rate*W2.grad.data\n",
        "            # zero gradients for next step\n",
        "            W1.grad.data.zero_()\n",
        "            W1.grad.data.zero_()\n",
        "    if epo%10 == 0:\n",
        "        learning_rate *= lr_decay\n",
        "    loss_hist.append(loss)\n",
        "    if epo%50 == 0:\n",
        "        print(f'Epoch {epo}, loss = {loss}')\n",
        "    "
      ],
      "metadata": {
        "colab": {
          "base_uri": "https://localhost:8080/"
        },
        "id": "c_vxYIBRF3nY",
        "outputId": "81127cd3-3279-40e1-a5a1-471b756e03fa"
      },
      "execution_count": 18,
      "outputs": [
        {
          "output_type": "stream",
          "name": "stdout",
          "text": [
            "Epoch 0, loss = 2.998577833175659\n",
            "Epoch 50, loss = 2.625443696975708\n",
            "Epoch 100, loss = 1.2810331583023071\n",
            "Epoch 150, loss = 1.00420343875885\n",
            "Epoch 200, loss = 0.9315588474273682\n",
            "Epoch 250, loss = 1.081263542175293\n",
            "Epoch 300, loss = 1.0362244844436646\n",
            "Epoch 350, loss = 1.0841113328933716\n",
            "Epoch 400, loss = 1.2292301654815674\n",
            "Epoch 450, loss = 1.2592660188674927\n",
            "Epoch 500, loss = 1.1025904417037964\n",
            "Epoch 550, loss = 1.3605509996414185\n",
            "Epoch 600, loss = 1.4275966882705688\n",
            "Epoch 650, loss = 1.252493977546692\n",
            "Epoch 700, loss = 1.3042726516723633\n",
            "Epoch 750, loss = 1.2329039573669434\n",
            "Epoch 800, loss = 1.305451512336731\n",
            "Epoch 850, loss = 1.2462702989578247\n",
            "Epoch 900, loss = 1.0977016687393188\n",
            "Epoch 950, loss = 1.0361394882202148\n",
            "Epoch 1000, loss = 1.063259482383728\n",
            "Epoch 1050, loss = 1.0143951177597046\n",
            "Epoch 1100, loss = 0.987041175365448\n",
            "Epoch 1150, loss = 0.9603632092475891\n",
            "Epoch 1200, loss = 0.9416938424110413\n",
            "Epoch 1250, loss = 0.9266782402992249\n",
            "Epoch 1300, loss = 0.9204723238945007\n",
            "Epoch 1350, loss = 0.918192446231842\n",
            "Epoch 1400, loss = 0.9172459244728088\n",
            "Epoch 1450, loss = 0.9160098433494568\n",
            "Epoch 1500, loss = 0.914520263671875\n",
            "Epoch 1550, loss = 0.9128420352935791\n",
            "Epoch 1600, loss = 0.9110206961631775\n",
            "Epoch 1650, loss = 0.9090893864631653\n",
            "Epoch 1700, loss = 0.9070821404457092\n",
            "Epoch 1750, loss = 0.9050502777099609\n",
            "Epoch 1800, loss = 0.9031295776367188\n",
            "Epoch 1850, loss = 0.9019167423248291\n",
            "Epoch 1900, loss = 0.9018895626068115\n",
            "Epoch 1950, loss = 0.9020126461982727\n",
            "CPU times: user 1.7 s, sys: 29.9 ms, total: 1.73 s\n",
            "Wall time: 1.93 s\n"
          ]
        }
      ]
    },
    {
      "cell_type": "code",
      "source": [
        "W1 = W1.detach().numpy()\n",
        "W2 = W2.T.detach().numpy()"
      ],
      "metadata": {
        "id": "Tuvbu7KBFhQe"
      },
      "execution_count": 19,
      "outputs": []
    },
    {
      "cell_type": "code",
      "source": [
        "svd = decomposition.TruncatedSVD(n_components=2)\n",
        "W1_dec = svd.fit_transform(W1)\n",
        "x = W1_dec[:,0]\n",
        "y = W1_dec[:,1]\n",
        "plot = sns.scatterplot(x, y)\n",
        "\n",
        "for i in range(0,W1_dec.shape[0]):\n",
        "     plot.text(x[i], y[i]+2e-2, list(vocabulary.keys())[i], horizontalalignment='center', size='small', color='black', weight='semibold');"
      ],
      "metadata": {
        "colab": {
          "base_uri": "https://localhost:8080/",
          "height": 265
        },
        "id": "ZccLHGrkFhT3",
        "outputId": "a28480d5-2ffb-4f79-b93a-1a05fdd03905"
      },
      "execution_count": 20,
      "outputs": [
        {
          "output_type": "display_data",
          "data": {
            "image/png": "[encoded data removed]",
            "text/plain": [
              "<Figure size 432x288 with 1 Axes>"
            ]
          },
          "metadata": {
            "needs_background": "light"
          }
        }
      ]
    },
    {
      "cell_type": "code",
      "source": [
        "W2_dec = svd.fit_transform(W2)\n",
        "x1 = W2_dec[:,0]\n",
        "y1 = W2_dec[:,1]\n",
        "plot1 = sns.scatterplot(x1, y1)\n",
        "for i in range(0,W2_dec.shape[0]):\n",
        "     plot1.text(x1[i], y1[i]+1, list(vocabulary.keys())[i], horizontalalignment='center', size='small', color='black', weight='semibold');"
      ],
      "metadata": {
        "colab": {
          "base_uri": "https://localhost:8080/",
          "height": 265
        },
        "id": "GbTrCmlpFIWv",
        "outputId": "5db065ff-05cb-41dd-d5b3-93212e34d583"
      },
      "execution_count": 21,
      "outputs": [
        {
          "output_type": "display_data",
          "data": {
            "image/png": "[encoded data removed]",
            "text/plain": [
              "<Figure size 432x288 with 1 Axes>"
            ]
          },
          "metadata": {
            "needs_background": "light"
          }
        }
      ]
    },
    {
      "cell_type": "code",
      "source": [
        ""
      ],
      "metadata": {
        "id": "51vDAN-DEIfI"
      },
      "execution_count": null,
      "outputs": []
    },
    {
      "cell_type": "code",
      "source": [
        ""
      ],
      "metadata": {
        "id": "NmFcgaw7EIhp"
      },
      "execution_count": null,
      "outputs": []
    },
    {
      "cell_type": "code",
      "source": [
        ""
      ],
      "metadata": {
        "id": "rFDGFRvWEIk_"
      },
      "execution_count": null,
      "outputs": []
    },
    {
      "cell_type": "code",
      "source": [
        ""
      ],
      "metadata": {
        "id": "SqF6QXPGD7kr"
      },
      "execution_count": null,
      "outputs": []
    },
    {
      "cell_type": "code",
      "source": [
        ""
      ],
      "metadata": {
        "id": "evG6uLIkD7n_"
      },
      "execution_count": null,
      "outputs": []
    },
    {
      "cell_type": "code",
      "source": [
        ""
      ],
      "metadata": {
        "id": "bsFVAVbpD7ra"
      },
      "execution_count": null,
      "outputs": []
    }
  ]
}