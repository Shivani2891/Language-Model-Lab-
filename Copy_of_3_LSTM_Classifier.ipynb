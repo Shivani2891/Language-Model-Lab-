{
  "nbformat": 4,
  "nbformat_minor": 0,
  "metadata": {
    "colab": {
      "name": "Copy of 3.LSTM Classifier.ipynb",
      "provenance": [],
      "collapsed_sections": []
    },
    "kernelspec": {
      "display_name": "Python 3",
      "language": "python",
      "name": "python3"
    },
    "language_info": {
      "codemirror_mode": {
        "name": "ipython",
        "version": 3
      },
      "file_extension": ".py",
      "mimetype": "text/x-python",
      "name": "python",
      "nbconvert_exporter": "python",
      "pygments_lexer": "ipython3",
      "version": "3.8.5"
    }
  },
  "cells": [
    {
      "cell_type": "markdown",
      "metadata": {
        "id": "ZNpb2U2Zm5RO"
      },
      "source": [
        "## Text Classification ##\n",
        "\n",
        "This notebook is based on this Pytorch tutorial: https://pytorch.org/tutorials/intermediate/char_rnn_classification_tutorial\n",
        "        \n",
        "In this notebook, we will train a network to learn how to classify the country of a name. In this example, we will tokenize per character rather than per word"
      ]
    },
    {
      "cell_type": "code",
      "metadata": {
        "id": "yBE-2hVCm5RR"
      },
      "source": [
        "from __future__ import unicode_literals, print_function, division\n",
        "from io import open\n",
        "import glob\n",
        "import os\n",
        "import unicodedata\n",
        "import string\n",
        "import random\n",
        "import time\n",
        "import math\n",
        "\n",
        "import torch\n",
        "import torch.nn as nn\n",
        "import torch.optim as optim\n",
        "from torch.optim import lr_scheduler\n",
        "\n",
        "import matplotlib.pyplot as plt\n",
        "import matplotlib.ticker as ticker"
      ],
      "execution_count": null,
      "outputs": []
    },
    {
      "cell_type": "code",
      "metadata": {
        "id": "sTt52MPzm5RT"
      },
      "source": [
        "device = torch.device(\"cuda\" if torch.cuda.is_available() else \"cpu\")\n",
        "# device = \"cpu\""
      ],
      "execution_count": null,
      "outputs": []
    },
    {
      "cell_type": "code",
      "metadata": {
        "colab": {
          "base_uri": "https://localhost:8080/"
        },
        "id": "DqGVlg-Lm5RU",
        "outputId": "933f55a6-79b1-46de-c5a6-67293130ea7f"
      },
      "source": [
        "# Vocabulary\n",
        "all_letters = string.ascii_letters + \" .,;'\"\n",
        "n_letters = len(all_letters)\n",
        "\n",
        "print(n_letters)\n",
        "\n",
        "# Turn a Unicode string to plain ASCII, thanks to https://stackoverflow.com/a/518232/2809427\n",
        "def unicodeToAscii(s):\n",
        "    return ''.join(\n",
        "        c for c in unicodedata.normalize('NFD', s)\n",
        "        if unicodedata.category(c) != 'Mn'\n",
        "        and c in all_letters\n",
        "    )\n",
        "\n",
        "print(unicodeToAscii('Ślusàrski'))"
      ],
      "execution_count": null,
      "outputs": [
        {
          "name": "stdout",
          "output_type": "stream",
          "text": [
            "57\n",
            "Slusarski\n"
          ]
        }
      ]
    },
    {
      "cell_type": "code",
      "metadata": {
        "colab": {
          "base_uri": "https://localhost:8080/"
        },
        "id": "vLYZ5RMCm5RV",
        "outputId": "c5de7266-7d1f-4b41-b878-7920dfa6a680"
      },
      "source": [
        "def findFiles(path): return glob.glob(path)\n",
        "\n",
        "print(findFiles('data/names/*.txt'))\n",
        "\n",
        "# Build the category_lines dictionary, a list of names per language\n",
        "category_lines = {}\n",
        "all_categories = []\n",
        "\n",
        "# Read a file and split into lines\n",
        "def readLines(filename):\n",
        "    lines = open(filename, encoding='utf-8').read().strip().split('\\n')\n",
        "    return [unicodeToAscii(line) for line in lines]\n",
        "\n",
        "for filename in findFiles('data/names/*.txt'):\n",
        "    category = os.path.splitext(os.path.basename(filename))[0]\n",
        "    all_categories.append(category)\n",
        "    lines = readLines(filename)\n",
        "    category_lines[category] = lines\n",
        "\n",
        "n_categories = len(all_categories)\n",
        "print(n_categories) # Classes\n",
        "# print(category_lines)"
      ],
      "execution_count": null,
      "outputs": [
        {
          "name": "stdout",
          "output_type": "stream",
          "text": [
            "[]\n",
            "0\n"
          ]
        }
      ]
    },
    {
      "cell_type": "code",
      "metadata": {
        "colab": {
          "base_uri": "https://localhost:8080/",
          "height": 166
        },
        "id": "zxHuaxsUm5RW",
        "outputId": "37a0c175-25ef-486d-efea-00c07a72a3a8"
      },
      "source": [
        "print(category_lines['Japanese'][:5])"
      ],
      "execution_count": null,
      "outputs": [
        {
          "ename": "KeyError",
          "evalue": "ignored",
          "output_type": "error",
          "traceback": [
            "\u001b[0;31m---------------------------------------------------------------------------\u001b[0m",
            "\u001b[0;31mKeyError\u001b[0m                                  Traceback (most recent call last)",
            "\u001b[0;32m<ipython-input-5-a53fe1538ee9>\u001b[0m in \u001b[0;36m<module>\u001b[0;34m()\u001b[0m\n\u001b[0;32m----> 1\u001b[0;31m \u001b[0mprint\u001b[0m\u001b[0;34m(\u001b[0m\u001b[0mcategory_lines\u001b[0m\u001b[0;34m[\u001b[0m\u001b[0;34m'Japanese'\u001b[0m\u001b[0;34m]\u001b[0m\u001b[0;34m[\u001b[0m\u001b[0;34m:\u001b[0m\u001b[0;36m5\u001b[0m\u001b[0;34m]\u001b[0m\u001b[0;34m)\u001b[0m\u001b[0;34m\u001b[0m\u001b[0;34m\u001b[0m\u001b[0m\n\u001b[0m",
            "\u001b[0;31mKeyError\u001b[0m: 'Japanese'"
          ]
        }
      ]
    },
    {
      "cell_type": "markdown",
      "metadata": {
        "id": "R29-D3Ham5RX"
      },
      "source": [
        "### Make everything into one-hot vector ###\n",
        "\n",
        "For it to be used (transform into a tensor)"
      ]
    },
    {
      "cell_type": "code",
      "metadata": {
        "id": "KbM3N1z_m5RY"
      },
      "source": [
        "# Find letter index from all_letters, e.g. \"a\" = 0\n",
        "def letterToIndex(letter):\n",
        "    return all_letters.find(letter)\n",
        "\n",
        "# Just for demonstration, turn a letter into a <1 x n_letters> Tensor\n",
        "def letterToTensor(letter):\n",
        "    tensor = torch.zeros(1, n_letters)\n",
        "    tensor[0][letterToIndex(letter)] = 1\n",
        "    return tensor\n",
        "\n",
        "# Turn a line into a <line_length x 1 x n_letters>,\n",
        "# or an array of one-hot letter vectors\n",
        "def lineToTensor(line):\n",
        "    tensor = torch.zeros(len(line), 1, n_letters)\n",
        "    for li, letter in enumerate(line):\n",
        "        tensor[li][0][letterToIndex(letter)] = 1\n",
        "    return tensor\n",
        "\n",
        "print(letterToTensor('J'))\n",
        "print(lineToTensor('Jones').size())"
      ],
      "execution_count": null,
      "outputs": []
    },
    {
      "cell_type": "code",
      "metadata": {
        "id": "6toGaKq8m5Ra"
      },
      "source": [
        "class RNN(nn.Module):\n",
        "    def __init__(self, input_size, hidden_size, output_size):\n",
        "        super(RNN, self).__init__()\n",
        "\n",
        "        self.hidden_size = hidden_size\n",
        "\n",
        "        self.hidden_comp = nn.Linear(input_size + hidden_size, hidden_size)\n",
        "        self.output_comp = nn.Linear(input_size + hidden_size, hidden_size)\n",
        "        self.output2output = nn.Linear(hidden_size, output_size)\n",
        "        self.tanh_act = nn.Tanh()\n",
        "        self.lsoftmax = nn.LogSoftmax(dim=1)\n",
        "\n",
        "    def forward(self, x, hidden):\n",
        "#         print(x.shape)\n",
        "        # output, hidden= self.rnn(x,hidden)\n",
        "        combined = torch.cat((x, hidden), 1)\n",
        "        hidden = self.hidden_comp(combined)\n",
        "        hidden = self.tanh_act(hidden)\n",
        "#         print(hidden.shape)\n",
        "        \n",
        "        output = self.output_comp(combined)\n",
        "        output = self.tanh_act(output)\n",
        "#         print(output.shape)\n",
        "        output = self.output2output(output)\n",
        "        output = self.lsoftmax(output)\n",
        "#         print(output.shape)\n",
        "        \n",
        "        return output, hidden\n",
        "\n",
        "    def initHidden(self):\n",
        "        return torch.zeros(1, self.hidden_size)\n",
        "\n",
        "n_hidden = 128\n",
        "rnn = RNN(n_letters, n_hidden, n_categories)"
      ],
      "execution_count": null,
      "outputs": []
    },
    {
      "cell_type": "markdown",
      "metadata": {
        "id": "bF-FTvK6m5Rc"
      },
      "source": [
        "To run a step of this network we need to pass an input (in our case, the Tensor for the current letter) and a previous hidden state (which we initialize as zeros at first). We’ll get back the output (probability of each language) and a next hidden state (which we keep for the next step)."
      ]
    },
    {
      "cell_type": "code",
      "metadata": {
        "id": "u8oCfNiCm5Rc"
      },
      "source": [
        "x = letterToTensor('A')\n",
        "hidden =torch.zeros(1, n_hidden)\n",
        "hidden = rnn.initHidden()\n",
        "\n",
        "output, next_hidden = rnn(x, hidden)\n",
        "print(output.argmax(-1))\n",
        "print(output.topk(3).indices)"
      ],
      "execution_count": null,
      "outputs": []
    },
    {
      "cell_type": "code",
      "metadata": {
        "id": "sTlAg4xVm5Rd"
      },
      "source": [
        "x = lineToTensor('Albert')\n",
        "hidden = torch.zeros(1, n_hidden)\n",
        "\n",
        "output, next_hidden = rnn(x[0], hidden)\n",
        "print(output.argmax(-1))"
      ],
      "execution_count": null,
      "outputs": []
    },
    {
      "cell_type": "markdown",
      "metadata": {
        "id": "qw04Is7-m5Rd"
      },
      "source": [
        "## Preparing for training! ##"
      ]
    },
    {
      "cell_type": "code",
      "metadata": {
        "id": "C2RRopJtm5Re"
      },
      "source": [
        "# Helper function to get the actual category from the best\n",
        "\n",
        "def categoryFromOutput(output):\n",
        "    top_n, top_i = output.topk(1)\n",
        "    category_i = top_i[0].item()\n",
        "    return all_categories[category_i], category_i\n",
        "\n",
        "print(categoryFromOutput(output))"
      ],
      "execution_count": null,
      "outputs": []
    },
    {
      "cell_type": "markdown",
      "metadata": {
        "id": "Ap5aCSXjm5Re"
      },
      "source": [
        "### Quick way to get training example (Src = Name, Trg = Language) ###"
      ]
    },
    {
      "cell_type": "code",
      "metadata": {
        "id": "TNV9eJPAm5Rf"
      },
      "source": [
        "def randomChoice(l):\n",
        "    return l[random.randint(0, len(l) - 1)]\n",
        "\n",
        "def randomTrainingExample():\n",
        "    category = randomChoice(all_categories)\n",
        "    line = randomChoice(category_lines[category])\n",
        "    category_tensor = torch.tensor([all_categories.index(category)], dtype=torch.long)\n",
        "    line_tensor = lineToTensor(line)\n",
        "    return category, line, category_tensor, line_tensor\n",
        "\n",
        "for i in range(10):\n",
        "    category, line, category_tensor, line_tensor = randomTrainingExample()\n",
        "    print('category =', category, '/ line =', line)"
      ],
      "execution_count": null,
      "outputs": []
    },
    {
      "cell_type": "code",
      "metadata": {
        "id": "lzegN4LYm5Rf"
      },
      "source": [
        "def timeSince(since):\n",
        "    now = time.time()\n",
        "    s = now - since\n",
        "    m = math.floor(s / 60)\n",
        "    s -= m * 60\n",
        "    return '%dm %ds' % (m, s)\n"
      ],
      "execution_count": null,
      "outputs": []
    },
    {
      "cell_type": "markdown",
      "metadata": {
        "id": "vx2Saf6_m5Rf"
      },
      "source": [
        "## Train now!!! ##"
      ]
    },
    {
      "cell_type": "code",
      "metadata": {
        "id": "ncVzTOxjm5Rg"
      },
      "source": [
        "def train(category_tensor, line_tensor, optim, criterion, model):\n",
        "    \n",
        "    model.train()\n",
        "    hidden = model.initHidden()\n",
        "    model.zero_grad()\n",
        "    \n",
        "    category_tensor = category_tensor.to(device)\n",
        "    line_tensor = line_tensor.to(device)\n",
        "\n",
        "    # Iterate through the whole line!\n",
        "    for i in range(line_tensor.size()[0]):\n",
        "        hidden = hidden.to(device)\n",
        "        output, hidden = model(line_tensor[i], hidden)\n",
        "\n",
        "    loss = criterion(output, category_tensor)\n",
        "    \n",
        "    # zero the parameter gradients\n",
        "    optim.zero_grad()\n",
        "    loss.backward()\n",
        "    optim.step()\n",
        "\n",
        "    return output, loss.item()"
      ],
      "execution_count": null,
      "outputs": []
    },
    {
      "cell_type": "markdown",
      "metadata": {
        "id": "A3V2s3Ntm5Rg"
      },
      "source": [
        "#### Train with the RNN from scrath ####"
      ]
    },
    {
      "cell_type": "code",
      "metadata": {
        "id": "CSNI6dfhm5Rg"
      },
      "source": [
        "criterion = nn.NLLLoss() # Because we are using Log_softmax\n",
        "learning_rate = 0.005 # If you set this too high, it might explode. If too low, it might not learn\n",
        "N_HIDDEN = 128\n",
        "\n",
        "model_basic = RNN(n_letters, N_HIDDEN, n_categories) #Vocab_size, hidden size, output classes\n",
        "model_basic = model_basic.to(device)\n",
        "optimizer = optim.SGD(model_basic.parameters(), lr=learning_rate)\n",
        "\n",
        "n_iters = 10000\n",
        "print_every = 5000\n",
        "plot_every = 1000\n",
        "\n",
        "# Keep track of losses for plotting\n",
        "current_loss = 0\n",
        "all_losses = []\n",
        "\n",
        "start = time.time()\n",
        "\n",
        "for iter in range(1, n_iters + 1):\n",
        "    category, line, category_tensor, line_tensor = randomTrainingExample()\n",
        "    output, loss = train(category_tensor, line_tensor, optimizer, criterion, model_basic)\n",
        "    current_loss += loss\n",
        "\n",
        "    # Print iter number, loss, name and guess\n",
        "    if iter % print_every == 0:\n",
        "        guess, guess_i = categoryFromOutput(output)\n",
        "        correct = '✓' if guess == category else '✗ (%s)' % category\n",
        "        print('%d %d%% (%s) %.4f %s / %s %s' % (iter, iter / n_iters * 100, timeSince(start), loss, line, guess, correct))\n",
        "\n",
        "    # Add current loss avg to list of losses\n",
        "    if iter % plot_every == 0:\n",
        "        all_losses.append(current_loss / plot_every)\n",
        "        current_loss = 0"
      ],
      "execution_count": null,
      "outputs": []
    },
    {
      "cell_type": "code",
      "metadata": {
        "id": "U2C8-yg-m5Rg"
      },
      "source": [
        "# PLOT THE RESULT\n",
        "\n",
        "import matplotlib.pyplot as plt\n",
        "import matplotlib.ticker as ticker\n",
        "\n",
        "plt.figure()\n",
        "plt.plot(all_losses)"
      ],
      "execution_count": null,
      "outputs": []
    },
    {
      "cell_type": "markdown",
      "metadata": {
        "id": "2AZn8jKJm5Rh"
      },
      "source": [
        "## Evaluate the results with a confusion matrix! ##"
      ]
    },
    {
      "cell_type": "code",
      "metadata": {
        "id": "0wVQyvTRm5Rh"
      },
      "source": [
        "# Keep track of correct guesses in a confusion matrix\n",
        "confusion = torch.zeros(n_categories, n_categories)\n",
        "n_confusion = 20000\n",
        "\n",
        "# Just return an output given a line\n",
        "def evaluate(line_tensor, model):\n",
        "    model.eval()\n",
        "    hidden = model.initHidden()\n",
        "    line_tensor = line_tensor.to(device)\n",
        "\n",
        "    for i in range(line_tensor.size()[0]):\n",
        "        hidden = hidden.to(device)\n",
        "        output, hidden = model(line_tensor[i], hidden)\n",
        "\n",
        "    return output\n",
        "\n",
        "# Go through a bunch of examples and record which are correctly guessed\n",
        "for i in range(n_confusion):\n",
        "    category, line, category_tensor, line_tensor = randomTrainingExample()\n",
        "    output = evaluate(line_tensor, model_basic)\n",
        "    guess, guess_i = categoryFromOutput(output)\n",
        "    category_i = all_categories.index(category)\n",
        "    confusion[category_i][guess_i] += 1\n",
        "\n",
        "# Normalize by dividing every row by its sum\n",
        "for i in range(n_categories):\n",
        "    confusion[i] = confusion[i] / confusion[i].sum()\n",
        "\n",
        "# Set up plot\n",
        "fig = plt.figure()\n",
        "ax = fig.add_subplot(111)\n",
        "cax = ax.matshow(confusion.numpy())\n",
        "fig.colorbar(cax)\n",
        "\n",
        "# Set up axes\n",
        "ax.set_xticklabels([''] + all_categories, rotation=90)\n",
        "ax.set_yticklabels([''] + all_categories)\n",
        "\n",
        "# Force label at every tick\n",
        "ax.xaxis.set_major_locator(ticker.MultipleLocator(1))\n",
        "ax.yaxis.set_major_locator(ticker.MultipleLocator(1))\n",
        "\n",
        "# sphinx_gallery_thumbnail_number = 2\n",
        "plt.show()"
      ],
      "execution_count": null,
      "outputs": []
    },
    {
      "cell_type": "markdown",
      "metadata": {
        "id": "FrMuZVU6m5Rh"
      },
      "source": [
        "## Now we can try predicting our own things! ##"
      ]
    },
    {
      "cell_type": "code",
      "metadata": {
        "id": "Ym0-D39Im5Rh"
      },
      "source": [
        "def predict(input_line, n_predictions=3):\n",
        "    print('\\n> %s' % input_line)\n",
        "    with torch.no_grad():\n",
        "        output = evaluate(lineToTensor(input_line), model_basic)\n",
        "\n",
        "        # Get top N categories\n",
        "        topv, topi = output.topk(n_predictions, 1, True)\n",
        "        predictions = []\n",
        "\n",
        "        for i in range(n_predictions):\n",
        "            value = topv[0][i].item()\n",
        "            category_index = topi[0][i].item()\n",
        "            print('(%.2f) %s' % (value, all_categories[category_index]))\n",
        "            predictions.append([value, all_categories[category_index]])\n",
        "\n",
        "predict('Dovesky')\n",
        "predict('Jackson')\n",
        "predict('Satoshi')\n",
        "predict('Nero')\n",
        "predict('Vivek')"
      ],
      "execution_count": null,
      "outputs": []
    },
    {
      "cell_type": "markdown",
      "metadata": {
        "id": "gfOTWNBZm5Ri"
      },
      "source": [
        "### So now lets shift to using the RNN Module from Pytorch ###"
      ]
    },
    {
      "cell_type": "code",
      "metadata": {
        "id": "LpYbgMWVm5Ri"
      },
      "source": [
        "def categoryToTensor(category):\n",
        "#     tensor = torch.zeros([1, 1], dtype=torch.long)\n",
        "#     tensor[0][0] = all_categories.index(category)\n",
        "    tensor = torch.zeros([1, len(all_categories)], dtype=torch.long)\n",
        "    tensor[0][all_categories.index(category)] = 1\n",
        "    return tensor\n",
        "\n",
        "def randomChoice(l):\n",
        "    return l[random.randint(0, len(l) - 1)]\n",
        "\n",
        "def randomTrainingExample():\n",
        "    category = randomChoice(all_categories)\n",
        "    line = randomChoice(category_lines[category])\n",
        "    category_tensor = categoryToTensor(category)\n",
        "    line_tensor = lineToTensor(line)\n",
        "    return category, line, category_tensor, line_tensor\n",
        "\n",
        "for i in range(10):\n",
        "    category, line, category_tensor, line_tensor = randomTrainingExample()\n",
        "    print('category =', category, '/ line =', line)\n",
        "#     print(category_tensor.shape)"
      ],
      "execution_count": null,
      "outputs": []
    },
    {
      "cell_type": "code",
      "metadata": {
        "id": "0EAMLEewm5Ri"
      },
      "source": [
        "class RNNPytorch(nn.Module):\n",
        "    def __init__(self, input_size, hidden_size, output_size):\n",
        "        super(RNNPytorch, self).__init__()\n",
        "\n",
        "        self.hidden_size = hidden_size\n",
        "        \n",
        "        self.rnn = nn.RNN(input_size, hidden_size, num_layers=1, batch_first=True) # 1 is num_layers\n",
        "        self.fc = nn.Linear(hidden_size, output_size)\n",
        "        self.lsoftmax = nn.LogSoftmax(dim=1)\n",
        "\n",
        "    def forward(self, x, hidden):\n",
        "\n",
        "        hidden, output = self.rnn(x, hidden)\n",
        "\n",
        "        output = output.contiguous().view(-1, self.hidden_size)\n",
        "        output = self.fc(output)\n",
        "        output = self.lsoftmax(output)\n",
        "        \n",
        "        return output, hidden\n",
        "\n",
        "    def initHidden(self, batch_size):\n",
        "        return torch.zeros(1, 1, self.hidden_size)"
      ],
      "execution_count": null,
      "outputs": []
    },
    {
      "cell_type": "code",
      "metadata": {
        "id": "eWSf9H_Vm5Ri"
      },
      "source": [
        "def train_pytorch_model(category_tensor, line_tensor, optim, criterion, model):\n",
        "    \n",
        "    model.train()\n",
        "    hidden = model.initHidden(line_tensor.shape[1])\n",
        "    model.zero_grad()\n",
        "    line_tensor = line_tensor.permute(1, 0, 2)\n",
        "#     print(line_tensor.shape)\n",
        "    \n",
        "#     print(category_tensor.shape)\n",
        "    category_tensor = category_tensor.to(device)\n",
        "    line_tensor = line_tensor.to(device)\n",
        "    \n",
        "    # Iterate through the whole line!\n",
        "    hidden = hidden.to(device)\n",
        "    output, hidden = model(line_tensor, hidden)\n",
        "\n",
        "    loss = criterion(output, torch.topk(category_tensor, 1).indices.view(-1))\n",
        "    \n",
        "    # zero the parameter gradients\n",
        "    optim.zero_grad()\n",
        "    loss.backward()\n",
        "    optim.step()\n",
        "\n",
        "    return output, loss.item()"
      ],
      "execution_count": null,
      "outputs": []
    },
    {
      "cell_type": "markdown",
      "metadata": {
        "id": "OJIdrXeAm5Rj"
      },
      "source": [
        "#### Train from the RNN using pytorch approach ####"
      ]
    },
    {
      "cell_type": "code",
      "metadata": {
        "id": "5Ds1KNAsm5Rj"
      },
      "source": [
        "criterion = nn.NLLLoss() # Because we are using Log_softmax\n",
        "learning_rate = 0.005 # If you set this too high, it might explode. If too low, it might not learn\n",
        "N_HIDDEN = 128\n",
        "\n",
        "model_pytorch = RNNPytorch(n_letters, N_HIDDEN, n_categories) #Vocab_size, hidden size, output classes\n",
        "model_pytorch = model_pytorch.to(device)\n",
        "optimizer = optim.SGD(model_pytorch.parameters(), lr=learning_rate)\n",
        "\n",
        "n_iters = 10000\n",
        "print_every = 5000\n",
        "plot_every = 1000\n",
        "\n",
        "# Keep track of losses for plotting\n",
        "current_loss = 0\n",
        "all_losses = []\n",
        "\n",
        "start = time.time()\n",
        "\n",
        "for iter in range(1, n_iters + 1):\n",
        "    category, line, category_tensor, line_tensor = randomTrainingExample()\n",
        "    output, loss = train_pytorch_model(category_tensor, line_tensor, optimizer, criterion, model_pytorch)\n",
        "    current_loss += loss\n",
        "    # Print iter number, loss, name and guess\n",
        "    if iter % print_every == 0:\n",
        "        guess, guess_i = categoryFromOutput(output)\n",
        "        correct = '✓' if guess == category else '✗ (%s)' % category\n",
        "        print('%d %d%% (%s) %.4f %s / %s %s' % (iter, iter / n_iters * 100, timeSince(start), loss, line, guess, correct))\n",
        "\n",
        "    # Add current loss avg to list of losses\n",
        "    if iter % plot_every == 0:\n",
        "        all_losses.append(current_loss / plot_every)\n",
        "        current_loss = 0"
      ],
      "execution_count": null,
      "outputs": []
    },
    {
      "cell_type": "code",
      "metadata": {
        "id": "MFISG1CPm5Rj"
      },
      "source": [
        "# PLOT THE RESULT\n",
        "\n",
        "import matplotlib.pyplot as plt\n",
        "import matplotlib.ticker as ticker\n",
        "\n",
        "plt.figure()\n",
        "plt.plot(all_losses)"
      ],
      "execution_count": null,
      "outputs": []
    },
    {
      "cell_type": "code",
      "metadata": {
        "id": "bi43O7K6m5Rk"
      },
      "source": [
        "# Just return an output given a line\n",
        "def evaluate(line_tensor, model):\n",
        "    model.eval()\n",
        "    hidden = model.initHidden(line_tensor.shape[1])\n",
        "    hidden = hidden.to(device)\n",
        "\n",
        "    line_tensor = line_tensor.permute(1, 0, 2)\n",
        "    line_tensor = line_tensor.to(device)\n",
        "    output, hidden = model(line_tensor, hidden)\n",
        "    \n",
        "    return output"
      ],
      "execution_count": null,
      "outputs": []
    },
    {
      "cell_type": "code",
      "metadata": {
        "id": "jnBa3HiXm5Rk"
      },
      "source": [
        "def predict(input_line, n_predictions=3):\n",
        "    print('\\n> %s' % input_line)\n",
        "    with torch.no_grad():\n",
        "        output = evaluate(lineToTensor(input_line), model_pytorch)\n",
        "\n",
        "        # Get top N categories\n",
        "        topv, topi = output.topk(n_predictions, 1, True)\n",
        "        predictions = []\n",
        "\n",
        "        for i in range(n_predictions):\n",
        "            value = topv[0][i].item()\n",
        "            category_index = topi[0][i].item()\n",
        "            print('(%.2f) %s' % (value, all_categories[category_index]))\n",
        "            predictions.append([value, all_categories[category_index]])\n",
        "\n",
        "predict('Dovesky')\n",
        "predict('Jackson')\n",
        "predict('Satoshi')\n",
        "predict('Vivek')\n",
        "predict('Nero')"
      ],
      "execution_count": null,
      "outputs": []
    },
    {
      "cell_type": "code",
      "metadata": {
        "id": "4ATOVoBfm5Rl"
      },
      "source": [
        ""
      ],
      "execution_count": null,
      "outputs": []
    },
    {
      "cell_type": "markdown",
      "metadata": {
        "id": "e-Z2TLpQm5Rl"
      },
      "source": [
        "## Now one of your assigments is to adapt/expand this text classifier! ##\n",
        "\n",
        "- Adapt the task to another similar task\n",
        "- Use LSTMs or GRU to compare with both Vanilla RNN approaches\n",
        "\n",
        "You can keep it at character-level or you can extend it to word-level (the vocabulary will change)\n",
        "\n",
        "Try with different datasets with a similar Input/Output system:\n",
        "- Book or character name -> writer\n",
        "- Game's titles -> company or genre\n",
        "- Any word -> language\n",
        "- Whatever you can think it can be classified"
      ]
    },
    {
      "cell_type": "markdown",
      "metadata": {
        "id": "08sLZDhrdfHP"
      },
      "source": [
        "## Classification of true and fake news using LSTM "
      ]
    },
    {
      "cell_type": "code",
      "metadata": {
        "colab": {
          "base_uri": "https://localhost:8080/"
        },
        "id": "NLk6gZBum5Rl",
        "outputId": "b1e556cf-30c1-4139-af90-3ba8a84562f7"
      },
      "source": [
        "import pandas as pd\n",
        "import string\n",
        "import torch\n",
        "\n",
        "# Models\n",
        "\n",
        "import torch.nn as nn\n",
        "from torch.nn.utils.rnn import pack_padded_sequence, pad_packed_sequence\n",
        "\n",
        "# Training\n",
        "import torch.optim as optim\n",
        "\n",
        "# Evaluation\n",
        "\n",
        "from sklearn.metrics import accuracy_score, classification_report, confusion_matrix\n",
        "import seaborn as sns\n"
      ],
      "execution_count": null,
      "outputs": [
        {
          "output_type": "stream",
          "name": "stdout",
          "text": [
            "[nltk_data] Downloading package punkt to /root/nltk_data...\n",
            "[nltk_data]   Unzipping tokenizers/punkt.zip.\n",
            "[nltk_data] Downloading package stopwords to /root/nltk_data...\n",
            "[nltk_data]   Unzipping corpora/stopwords.zip.\n"
          ]
        }
      ]
    },
    {
      "cell_type": "code",
      "metadata": {
        "colab": {
          "base_uri": "https://localhost:8080/"
        },
        "id": "kDK7QwnDnxGV",
        "outputId": "db382506-cd9a-4a7a-d6a3-615683d8b598"
      },
      "source": [
        "from google.colab import drive\n",
        "drive.mount('/gdrive')\n",
        "%cd /gdrive"
      ],
      "execution_count": null,
      "outputs": [
        {
          "output_type": "stream",
          "name": "stdout",
          "text": [
            "Mounted at /gdrive\n",
            "/gdrive\n"
          ]
        }
      ]
    },
    {
      "cell_type": "markdown",
      "metadata": {
        "id": "uI2heO7FdPpv"
      },
      "source": [
        "##Reading data from google drive\n",
        "\n",
        "*   The data of fake news and true news is downloaded from kaggle in the form of two separate csv files.\n",
        "*   Later the datasets are imported in google drive to be mounted on colab\n",
        "\n"
      ]
    },
    {
      "cell_type": "code",
      "metadata": {
        "colab": {
          "base_uri": "https://localhost:8080/",
          "height": 206
        },
        "id": "NPaTBY8hgzXG",
        "outputId": "0a27084b-1eb5-4834-a173-e2882c674658"
      },
      "source": [
        "true = pd.read_csv('/gdrive/MyDrive/True.csv')\n",
        "true.head()"
      ],
      "execution_count": null,
      "outputs": [
        {
          "output_type": "execute_result",
          "data": {
            "text/html": [
              "<div>\n",
              "<style scoped>\n",
              "    .dataframe tbody tr th:only-of-type {\n",
              "        vertical-align: middle;\n",
              "    }\n",
              "\n",
              "    .dataframe tbody tr th {\n",
              "        vertical-align: top;\n",
              "    }\n",
              "\n",
              "    .dataframe thead th {\n",
              "        text-align: right;\n",
              "    }\n",
              "</style>\n",
              "<table border=\"1\" class=\"dataframe\">\n",
              "  <thead>\n",
              "    <tr style=\"text-align: right;\">\n",
              "      <th></th>\n",
              "      <th>title</th>\n",
              "      <th>text</th>\n",
              "      <th>subject</th>\n",
              "      <th>date</th>\n",
              "    </tr>\n",
              "  </thead>\n",
              "  <tbody>\n",
              "    <tr>\n",
              "      <th>0</th>\n",
              "      <td>As U.S. budget fight looms, Republicans flip t...</td>\n",
              "      <td>WASHINGTON (Reuters) - The head of a conservat...</td>\n",
              "      <td>politicsNews</td>\n",
              "      <td>December 31, 2017</td>\n",
              "    </tr>\n",
              "    <tr>\n",
              "      <th>1</th>\n",
              "      <td>U.S. military to accept transgender recruits o...</td>\n",
              "      <td>WASHINGTON (Reuters) - Transgender people will...</td>\n",
              "      <td>politicsNews</td>\n",
              "      <td>December 29, 2017</td>\n",
              "    </tr>\n",
              "    <tr>\n",
              "      <th>2</th>\n",
              "      <td>Senior U.S. Republican senator: 'Let Mr. Muell...</td>\n",
              "      <td>WASHINGTON (Reuters) - The special counsel inv...</td>\n",
              "      <td>politicsNews</td>\n",
              "      <td>December 31, 2017</td>\n",
              "    </tr>\n",
              "    <tr>\n",
              "      <th>3</th>\n",
              "      <td>FBI Russia probe helped by Australian diplomat...</td>\n",
              "      <td>WASHINGTON (Reuters) - Trump campaign adviser ...</td>\n",
              "      <td>politicsNews</td>\n",
              "      <td>December 30, 2017</td>\n",
              "    </tr>\n",
              "    <tr>\n",
              "      <th>4</th>\n",
              "      <td>Trump wants Postal Service to charge 'much mor...</td>\n",
              "      <td>SEATTLE/WASHINGTON (Reuters) - President Donal...</td>\n",
              "      <td>politicsNews</td>\n",
              "      <td>December 29, 2017</td>\n",
              "    </tr>\n",
              "  </tbody>\n",
              "</table>\n",
              "</div>"
            ],
            "text/plain": [
              "                                               title  ...                date\n",
              "0  As U.S. budget fight looms, Republicans flip t...  ...  December 31, 2017 \n",
              "1  U.S. military to accept transgender recruits o...  ...  December 29, 2017 \n",
              "2  Senior U.S. Republican senator: 'Let Mr. Muell...  ...  December 31, 2017 \n",
              "3  FBI Russia probe helped by Australian diplomat...  ...  December 30, 2017 \n",
              "4  Trump wants Postal Service to charge 'much mor...  ...  December 29, 2017 \n",
              "\n",
              "[5 rows x 4 columns]"
            ]
          },
          "metadata": {},
          "execution_count": 4
        }
      ]
    },
    {
      "cell_type": "code",
      "metadata": {
        "colab": {
          "base_uri": "https://localhost:8080/",
          "height": 206
        },
        "id": "U1n8oUgun3yP",
        "outputId": "39f06507-e2c6-4286-c4ac-9bebb36c630a"
      },
      "source": [
        "fake = pd.read_csv('/gdrive/MyDrive/Fake.csv')\n",
        "fake.head()"
      ],
      "execution_count": null,
      "outputs": [
        {
          "output_type": "execute_result",
          "data": {
            "text/html": [
              "<div>\n",
              "<style scoped>\n",
              "    .dataframe tbody tr th:only-of-type {\n",
              "        vertical-align: middle;\n",
              "    }\n",
              "\n",
              "    .dataframe tbody tr th {\n",
              "        vertical-align: top;\n",
              "    }\n",
              "\n",
              "    .dataframe thead th {\n",
              "        text-align: right;\n",
              "    }\n",
              "</style>\n",
              "<table border=\"1\" class=\"dataframe\">\n",
              "  <thead>\n",
              "    <tr style=\"text-align: right;\">\n",
              "      <th></th>\n",
              "      <th>title</th>\n",
              "      <th>text</th>\n",
              "      <th>subject</th>\n",
              "      <th>date</th>\n",
              "    </tr>\n",
              "  </thead>\n",
              "  <tbody>\n",
              "    <tr>\n",
              "      <th>0</th>\n",
              "      <td>Donald Trump Sends Out Embarrassing New Year’...</td>\n",
              "      <td>Donald Trump just couldn t wish all Americans ...</td>\n",
              "      <td>News</td>\n",
              "      <td>December 31, 2017</td>\n",
              "    </tr>\n",
              "    <tr>\n",
              "      <th>1</th>\n",
              "      <td>Drunk Bragging Trump Staffer Started Russian ...</td>\n",
              "      <td>House Intelligence Committee Chairman Devin Nu...</td>\n",
              "      <td>News</td>\n",
              "      <td>December 31, 2017</td>\n",
              "    </tr>\n",
              "    <tr>\n",
              "      <th>2</th>\n",
              "      <td>Sheriff David Clarke Becomes An Internet Joke...</td>\n",
              "      <td>On Friday, it was revealed that former Milwauk...</td>\n",
              "      <td>News</td>\n",
              "      <td>December 30, 2017</td>\n",
              "    </tr>\n",
              "    <tr>\n",
              "      <th>3</th>\n",
              "      <td>Trump Is So Obsessed He Even Has Obama’s Name...</td>\n",
              "      <td>On Christmas day, Donald Trump announced that ...</td>\n",
              "      <td>News</td>\n",
              "      <td>December 29, 2017</td>\n",
              "    </tr>\n",
              "    <tr>\n",
              "      <th>4</th>\n",
              "      <td>Pope Francis Just Called Out Donald Trump Dur...</td>\n",
              "      <td>Pope Francis used his annual Christmas Day mes...</td>\n",
              "      <td>News</td>\n",
              "      <td>December 25, 2017</td>\n",
              "    </tr>\n",
              "  </tbody>\n",
              "</table>\n",
              "</div>"
            ],
            "text/plain": [
              "                                               title  ...               date\n",
              "0   Donald Trump Sends Out Embarrassing New Year’...  ...  December 31, 2017\n",
              "1   Drunk Bragging Trump Staffer Started Russian ...  ...  December 31, 2017\n",
              "2   Sheriff David Clarke Becomes An Internet Joke...  ...  December 30, 2017\n",
              "3   Trump Is So Obsessed He Even Has Obama’s Name...  ...  December 29, 2017\n",
              "4   Pope Francis Just Called Out Donald Trump Dur...  ...  December 25, 2017\n",
              "\n",
              "[5 rows x 4 columns]"
            ]
          },
          "metadata": {},
          "execution_count": 22
        }
      ]
    },
    {
      "cell_type": "markdown",
      "metadata": {
        "id": "ppr1C6wYeQCm"
      },
      "source": [
        "The raw datasets have field such as title of the news,text written in the news ,subject along with date the news was published."
      ]
    },
    {
      "cell_type": "markdown",
      "metadata": {
        "id": "04KPGIj6es7w"
      },
      "source": [
        "Now the two separate csv files are joined after the true and fake news are allocated labels ;1 for true and 0 for fake"
      ]
    },
    {
      "cell_type": "code",
      "metadata": {
        "colab": {
          "base_uri": "https://localhost:8080/",
          "height": 206
        },
        "id": "8m8a26VtoohW",
        "outputId": "5219bc6f-bb06-4a98-f5ef-e1e6703b2fdd"
      },
      "source": [
        "true['truth'] = 1\n",
        "fake['truth'] = 0\n",
        "df = pd.concat([true, fake], axis=0, ignore_index=True)\n",
        "df.shape\n",
        "df.head()"
      ],
      "execution_count": null,
      "outputs": [
        {
          "output_type": "execute_result",
          "data": {
            "text/html": [
              "<div>\n",
              "<style scoped>\n",
              "    .dataframe tbody tr th:only-of-type {\n",
              "        vertical-align: middle;\n",
              "    }\n",
              "\n",
              "    .dataframe tbody tr th {\n",
              "        vertical-align: top;\n",
              "    }\n",
              "\n",
              "    .dataframe thead th {\n",
              "        text-align: right;\n",
              "    }\n",
              "</style>\n",
              "<table border=\"1\" class=\"dataframe\">\n",
              "  <thead>\n",
              "    <tr style=\"text-align: right;\">\n",
              "      <th></th>\n",
              "      <th>title</th>\n",
              "      <th>text</th>\n",
              "      <th>subject</th>\n",
              "      <th>date</th>\n",
              "      <th>truth</th>\n",
              "    </tr>\n",
              "  </thead>\n",
              "  <tbody>\n",
              "    <tr>\n",
              "      <th>0</th>\n",
              "      <td>As U.S. budget fight looms, Republicans flip t...</td>\n",
              "      <td>WASHINGTON (Reuters) - The head of a conservat...</td>\n",
              "      <td>politicsNews</td>\n",
              "      <td>December 31, 2017</td>\n",
              "      <td>1</td>\n",
              "    </tr>\n",
              "    <tr>\n",
              "      <th>1</th>\n",
              "      <td>U.S. military to accept transgender recruits o...</td>\n",
              "      <td>WASHINGTON (Reuters) - Transgender people will...</td>\n",
              "      <td>politicsNews</td>\n",
              "      <td>December 29, 2017</td>\n",
              "      <td>1</td>\n",
              "    </tr>\n",
              "    <tr>\n",
              "      <th>2</th>\n",
              "      <td>Senior U.S. Republican senator: 'Let Mr. Muell...</td>\n",
              "      <td>WASHINGTON (Reuters) - The special counsel inv...</td>\n",
              "      <td>politicsNews</td>\n",
              "      <td>December 31, 2017</td>\n",
              "      <td>1</td>\n",
              "    </tr>\n",
              "    <tr>\n",
              "      <th>3</th>\n",
              "      <td>FBI Russia probe helped by Australian diplomat...</td>\n",
              "      <td>WASHINGTON (Reuters) - Trump campaign adviser ...</td>\n",
              "      <td>politicsNews</td>\n",
              "      <td>December 30, 2017</td>\n",
              "      <td>1</td>\n",
              "    </tr>\n",
              "    <tr>\n",
              "      <th>4</th>\n",
              "      <td>Trump wants Postal Service to charge 'much mor...</td>\n",
              "      <td>SEATTLE/WASHINGTON (Reuters) - President Donal...</td>\n",
              "      <td>politicsNews</td>\n",
              "      <td>December 29, 2017</td>\n",
              "      <td>1</td>\n",
              "    </tr>\n",
              "  </tbody>\n",
              "</table>\n",
              "</div>"
            ],
            "text/plain": [
              "                                               title  ... truth\n",
              "0  As U.S. budget fight looms, Republicans flip t...  ...     1\n",
              "1  U.S. military to accept transgender recruits o...  ...     1\n",
              "2  Senior U.S. Republican senator: 'Let Mr. Muell...  ...     1\n",
              "3  FBI Russia probe helped by Australian diplomat...  ...     1\n",
              "4  Trump wants Postal Service to charge 'much mor...  ...     1\n",
              "\n",
              "[5 rows x 5 columns]"
            ]
          },
          "metadata": {},
          "execution_count": 6
        }
      ]
    },
    {
      "cell_type": "code",
      "metadata": {
        "colab": {
          "base_uri": "https://localhost:8080/"
        },
        "id": "ijJEvRs0re4m",
        "outputId": "3920bb2b-fb95-4103-a50f-7840c0cca10a"
      },
      "source": [
        "device = torch.device('cuda:0' if torch.cuda.is_available() else 'cpu')\n",
        "print(device)"
      ],
      "execution_count": null,
      "outputs": [
        {
          "output_type": "stream",
          "name": "stdout",
          "text": [
            "cpu\n"
          ]
        }
      ]
    },
    {
      "cell_type": "markdown",
      "metadata": {
        "id": "DzBet9Jce_im"
      },
      "source": [
        "##Preprocessing and Splitting the dataset into training,validation and testing sub-parts\n",
        "\n",
        "*   In the preprocessing part, the rows with missing values are deleted. Also,text strings are trimmed to a specified word limit.Trimming the samples in a dataset is not necessary but with trimmed dataset,training is faster for heavier models and is normally enough to predict the outcome.\n",
        "*Later, the only the features of title of the news and text of the news along with label are kept. Rest are eliminated.\n",
        "*  A new feature joining title and text is created which has string sfrom both the columns to remove the space between both.\n",
        "\n"
      ]
    },
    {
      "cell_type": "code",
      "metadata": {
        "id": "Irnsbgi1vkSR"
      },
      "source": [
        "from sklearn.model_selection import train_test_split\n",
        "train_test_ratio = 0.10\n",
        "train_valid_ratio = 0.80\n",
        "# Drop rows with empty text\n",
        "df.drop( df[df.text.str.len() < 5].index, inplace=True)\n",
        "first_n_words = 200\n",
        "def trim_string(x):\n",
        "\n",
        "    x = x.split(maxsplit=first_n_words)\n",
        "    x = ' '.join(x[:first_n_words])\n",
        "\n",
        "    return x\n",
        "df['titletext'] = df['title'] + \". \" + df['text']\n",
        "df= df.reindex(columns=['truth', 'title', 'text', 'titletext'])\n",
        "# Trim text and titletext to first_n_words\n",
        "df['text'] = df['text'].apply(trim_string)\n",
        "df['titletext'] = df['titletext'].apply(trim_string) \n",
        "# Split according to label\n",
        "df_real = df[df['truth'] == 0]\n",
        "df_fake = df[df['truth'] == 1]\n",
        "\n",
        "# Train-test split\n",
        "df_real_full_train, df_real_test = train_test_split(df_real, train_size = train_test_ratio, random_state = 1)\n",
        "df_fake_full_train, df_fake_test = train_test_split(df_fake, train_size = train_test_ratio, random_state = 1)\n",
        "\n",
        "# Train-valid split\n",
        "df_real_train, df_real_valid = train_test_split(df_real_full_train, train_size = train_valid_ratio, random_state = 1)\n",
        "df_fake_train, df_fake_valid = train_test_split(df_fake_full_train, train_size = train_valid_ratio, random_state = 1)\n",
        "\n",
        "# Concatenate splits of different labels\n",
        "df_train = pd.concat([df_real_train, df_fake_train], ignore_index=True, sort=False)\n",
        "df_valid = pd.concat([df_real_valid, df_fake_valid], ignore_index=True, sort=False)\n",
        "df_test = pd.concat([df_real_test, df_fake_test], ignore_index=True, sort=False)\n",
        "\n"
      ],
      "execution_count": null,
      "outputs": []
    },
    {
      "cell_type": "markdown",
      "metadata": {
        "id": "6TzOQH9igTrB"
      },
      "source": [
        "This is how the datsets look after preprocessing."
      ]
    },
    {
      "cell_type": "code",
      "metadata": {
        "colab": {
          "base_uri": "https://localhost:8080/",
          "height": 206
        },
        "id": "HtznJfXZZGJt",
        "outputId": "9bb11018-5cc8-44f1-c11a-6c138f8adcea"
      },
      "source": [
        "df_train.head()"
      ],
      "execution_count": null,
      "outputs": [
        {
          "output_type": "execute_result",
          "data": {
            "text/html": [
              "<div>\n",
              "<style scoped>\n",
              "    .dataframe tbody tr th:only-of-type {\n",
              "        vertical-align: middle;\n",
              "    }\n",
              "\n",
              "    .dataframe tbody tr th {\n",
              "        vertical-align: top;\n",
              "    }\n",
              "\n",
              "    .dataframe thead th {\n",
              "        text-align: right;\n",
              "    }\n",
              "</style>\n",
              "<table border=\"1\" class=\"dataframe\">\n",
              "  <thead>\n",
              "    <tr style=\"text-align: right;\">\n",
              "      <th></th>\n",
              "      <th>truth</th>\n",
              "      <th>title</th>\n",
              "      <th>text</th>\n",
              "      <th>titletext</th>\n",
              "    </tr>\n",
              "  </thead>\n",
              "  <tbody>\n",
              "    <tr>\n",
              "      <th>0</th>\n",
              "      <td>0</td>\n",
              "      <td>Sarah Silverman’s Hysterical Video For Bernie...</td>\n",
              "      <td>On Monday, Sarah Silverman released a hilariou...</td>\n",
              "      <td>Sarah Silverman’s Hysterical Video For Bernie ...</td>\n",
              "    </tr>\n",
              "    <tr>\n",
              "      <th>1</th>\n",
              "      <td>0</td>\n",
              "      <td>Perfect Match? Evidence Leans Towards Sarah P...</td>\n",
              "      <td>Donald Trump set tongues wagging with a tweet ...</td>\n",
              "      <td>Perfect Match? Evidence Leans Towards Sarah Pa...</td>\n",
              "    </tr>\n",
              "    <tr>\n",
              "      <th>2</th>\n",
              "      <td>0</td>\n",
              "      <td>NOT NEWS: [Graphic Video] Michigan Woman Runs ...</td>\n",
              "      <td>This is a story that will never make the news....</td>\n",
              "      <td>NOT NEWS: [Graphic Video] Michigan Woman Runs ...</td>\n",
              "    </tr>\n",
              "    <tr>\n",
              "      <th>3</th>\n",
              "      <td>0</td>\n",
              "      <td>HEROIC Muslim Student Helps Track Down Man Wh...</td>\n",
              "      <td>The situation that 17-year old Ahmed Khalifa s...</td>\n",
              "      <td>HEROIC Muslim Student Helps Track Down Man Who...</td>\n",
              "    </tr>\n",
              "    <tr>\n",
              "      <th>4</th>\n",
              "      <td>0</td>\n",
              "      <td>REVEALED: Trump Illegally Violated Embargo Ag...</td>\n",
              "      <td>The law and order candidate broke the law agai...</td>\n",
              "      <td>REVEALED: Trump Illegally Violated Embargo Aga...</td>\n",
              "    </tr>\n",
              "  </tbody>\n",
              "</table>\n",
              "</div>"
            ],
            "text/plain": [
              "   truth  ...                                          titletext\n",
              "0      0  ...  Sarah Silverman’s Hysterical Video For Bernie ...\n",
              "1      0  ...  Perfect Match? Evidence Leans Towards Sarah Pa...\n",
              "2      0  ...  NOT NEWS: [Graphic Video] Michigan Woman Runs ...\n",
              "3      0  ...  HEROIC Muslim Student Helps Track Down Man Who...\n",
              "4      0  ...  REVEALED: Trump Illegally Violated Embargo Aga...\n",
              "\n",
              "[5 rows x 4 columns]"
            ]
          },
          "metadata": {},
          "execution_count": 9
        }
      ]
    },
    {
      "cell_type": "markdown",
      "metadata": {
        "id": "aMjgA4UHgllM"
      },
      "source": [
        "##saving datasets in separate csv files "
      ]
    },
    {
      "cell_type": "code",
      "metadata": {
        "id": "4X89mVxWBW3J"
      },
      "source": [
        "destination_folder = '/gdrive/MyDrive/'\n",
        "# Write preprocessed data\n",
        "df_train.to_csv(destination_folder + '/train.csv', index=False)\n",
        "df_valid.to_csv(destination_folder + '/valid.csv', index=False)\n",
        "df_test.to_csv(destination_folder + '/test.csv', index=False)"
      ],
      "execution_count": null,
      "outputs": []
    },
    {
      "cell_type": "code",
      "metadata": {
        "colab": {
          "base_uri": "https://localhost:8080/"
        },
        "id": "O-phVMhKJZma",
        "outputId": "8d955f10-b196-4e41-ac20-e2b79524bca2"
      },
      "source": [
        " print(torch.__version__)"
      ],
      "execution_count": null,
      "outputs": [
        {
          "name": "stdout",
          "output_type": "stream",
          "text": [
            "1.10.0+cu111\n"
          ]
        }
      ]
    },
    {
      "cell_type": "markdown",
      "metadata": {
        "id": "vjdVJMVBvQuy"
      },
      "source": [
        "## Further preprocessing, batchifying and creating vocabulary"
      ]
    },
    {
      "cell_type": "markdown",
      "metadata": {
        "id": "EiuGSoYGoyZv"
      },
      "source": [
        "Torchtext.data provides the ability to adapt or change the dataset.Like Field part allows to describe a a feature with particular instructions to convert to tensor , and Dataset defines columns stored in CSV, TSV, or JSON format.BucketIterator defines an iterator that batches examples of similar lengths together."
      ]
    },
    {
      "cell_type": "code",
      "metadata": {
        "colab": {
          "base_uri": "https://localhost:8080/"
        },
        "id": "Rht76JqgB_1W",
        "outputId": "8df71fec-5cf6-4265-f4d4-8f441581d4d0"
      },
      "source": [
        "!pip install -U torchtext==0.11.0\n",
        "from torchtext.legacy.data import Field, TabularDataset, BucketIterator, Iterator\n"
      ],
      "execution_count": null,
      "outputs": [
        {
          "output_type": "stream",
          "name": "stdout",
          "text": [
            "Requirement already satisfied: torchtext==0.11.0 in /usr/local/lib/python3.7/dist-packages (0.11.0)\n",
            "Requirement already satisfied: requests in /usr/local/lib/python3.7/dist-packages (from torchtext==0.11.0) (2.23.0)\n",
            "Requirement already satisfied: tqdm in /usr/local/lib/python3.7/dist-packages (from torchtext==0.11.0) (4.62.3)\n",
            "Requirement already satisfied: torch==1.10.0 in /usr/local/lib/python3.7/dist-packages (from torchtext==0.11.0) (1.10.0+cu111)\n",
            "Requirement already satisfied: numpy in /usr/local/lib/python3.7/dist-packages (from torchtext==0.11.0) (1.19.5)\n",
            "Requirement already satisfied: typing-extensions in /usr/local/lib/python3.7/dist-packages (from torch==1.10.0->torchtext==0.11.0) (3.10.0.2)\n",
            "Requirement already satisfied: certifi>=2017.4.17 in /usr/local/lib/python3.7/dist-packages (from requests->torchtext==0.11.0) (2021.10.8)\n",
            "Requirement already satisfied: urllib3!=1.25.0,!=1.25.1,<1.26,>=1.21.1 in /usr/local/lib/python3.7/dist-packages (from requests->torchtext==0.11.0) (1.24.3)\n",
            "Requirement already satisfied: idna<3,>=2.5 in /usr/local/lib/python3.7/dist-packages (from requests->torchtext==0.11.0) (2.10)\n",
            "Requirement already satisfied: chardet<4,>=3.0.2 in /usr/local/lib/python3.7/dist-packages (from requests->torchtext==0.11.0) (3.0.4)\n"
          ]
        }
      ]
    },
    {
      "cell_type": "markdown",
      "metadata": {
        "id": "HKRA0whVqRDe"
      },
      "source": [
        "\n",
        "\n",
        "*   With Field text data is further preprocessed. Text field strings are tokenized in sequential examples with spacy , and the text is changed to lowercase with lower=true\n",
        "\n",
        "*  With batch_first True, tensors with the batch dimension first are produced.\n",
        "* With include_lengths, tuples of padded minibatch is returned. \n",
        "*  Then with Tabulardataset datasets of training,testing and validating datset are created but with removed first line i.e. without headers.\n",
        "* Bucketiterator batches the examples of equal length in each of the 3 datasets with batch size =32. Sorting examples within the batch and the dataset is true.\n",
        "*The train, valid, and test iterators are created that load the data.\n",
        "*With build_vocab, vocabulary is created from training dataset with minimum frequency for a token to be part of vocab is 3.\n",
        "\n"
      ]
    },
    {
      "cell_type": "code",
      "metadata": {
        "id": "txzg2qGXrfFh"
      },
      "source": [
        "\n",
        "source_folder = '/gdrive/MyDrive'\n",
        "label_field = Field(sequential=False, use_vocab=False, batch_first=True, dtype=torch.float)\n",
        "text_field = Field(tokenize='spacy', lower=True, include_lengths=True, batch_first=True)\n",
        "fields = [('truth', label_field), ('title', text_field), ('text', text_field), ('titletext', text_field)]\n",
        "\n",
        "# TabularDataset\n",
        "\n",
        "train, valid, test = TabularDataset.splits(path=source_folder, train='train.csv', validation='valid.csv', test='test.csv',\n",
        "                                           format='CSV', fields=fields, skip_header=True)\n",
        "\n",
        "# Iterators\n",
        "\n",
        "train_iter = BucketIterator(train, batch_size=32, sort_key=lambda x: len(x.text),\n",
        "                            device=device, sort=True, sort_within_batch=True)\n",
        "valid_iter = BucketIterator(valid, batch_size=32, sort_key=lambda x: len(x.text),\n",
        "                            device=device, sort=True, sort_within_batch=True)\n",
        "test_iter = BucketIterator(test, batch_size=32, sort_key=lambda x: len(x.text),\n",
        "                            device=device, sort=True, sort_within_batch=True)\n",
        "\n",
        "# Vocabulary\n",
        "\n",
        "text_field.build_vocab(train, min_freq=3)"
      ],
      "execution_count": null,
      "outputs": []
    },
    {
      "cell_type": "markdown",
      "metadata": {
        "id": "6QpuAAXihB4z"
      },
      "source": [
        "## Defining LSTM Model for classification task"
      ]
    },
    {
      "cell_type": "markdown",
      "metadata": {
        "id": "wgbQCXJ8wRoa"
      },
      "source": [
        "LSTM class is defined that inherits from the nn.Module. Inside the LSTM, we construct an Embedding layer, followed by a bi-LSTM layer, and ending with a fully connected linear layer. In the forward function, we pass the text IDs through the embedding layer to get the embeddings, pass it through the LSTM accommodating variable-length sequences, learn from both directions, pass it through the fully connected linear layer, and finally sigmoid to get the probability of the sequences belonging to FAKE."
      ]
    },
    {
      "cell_type": "code",
      "metadata": {
        "id": "_5LujB8qWU2w"
      },
      "source": [
        "class LSTM(nn.Module):\n",
        "\n",
        "    def __init__(self, dimension=128):\n",
        "        super(LSTM, self).__init__()\n",
        "\n",
        "        self.embedding = nn.Embedding(len(text_field.vocab), 300)\n",
        "        self.dimension = dimension\n",
        "        self.lstm = nn.LSTM(input_size=300,\n",
        "                            hidden_size=dimension,\n",
        "                            num_layers=1,\n",
        "                            batch_first=True,\n",
        "                            bidirectional=True)\n",
        "        self.drop = nn.Dropout(p=0.5)\n",
        "\n",
        "        self.fc = nn.Linear(2*dimension, 1)\n",
        "\n",
        "    def forward(self, text, text_len):\n",
        "\n",
        "        text_emb = self.embedding(text)\n",
        "\n",
        "        packed_input = pack_padded_sequence(text_emb, text_len, batch_first=True, enforce_sorted=False)\n",
        "        packed_output, _ = self.lstm(packed_input)\n",
        "        output, _ = pad_packed_sequence(packed_output, batch_first=True)\n",
        "\n",
        "        out_forward = output[range(len(output)), text_len - 1, :self.dimension]\n",
        "        out_reverse = output[:, 0, self.dimension:]\n",
        "        out_reduced = torch.cat((out_forward, out_reverse), 1)\n",
        "        text_fea = self.drop(out_reduced)\n",
        "\n",
        "        text_fea = self.fc(text_fea)\n",
        "        text_fea = torch.squeeze(text_fea, 1)\n",
        "        text_out = torch.sigmoid(text_fea)\n",
        "\n",
        "        return text_out"
      ],
      "execution_count": null,
      "outputs": []
    },
    {
      "cell_type": "markdown",
      "metadata": {
        "id": "YBsROMj_w8sm"
      },
      "source": [
        "Before training, save and load functions are built for checkpoints and metrics. For checkpoints, the model parameters and optimizer are saved; for metrics, the train loss, valid loss, and global steps are saved so diagrams can be easily reconstructed later."
      ]
    },
    {
      "cell_type": "code",
      "metadata": {
        "id": "TMXk0NMGWVC3"
      },
      "source": [
        "# Save and Load Functions\n",
        "\n",
        "def save_checkpoint(save_path, model, optimizer, valid_loss):\n",
        "\n",
        "    if save_path == None:\n",
        "        return\n",
        "    \n",
        "    state_dict = {'model_state_dict': model.state_dict(),\n",
        "                  'optimizer_state_dict': optimizer.state_dict(),\n",
        "                  'valid_loss': valid_loss}\n",
        "    \n",
        "    torch.save(state_dict, save_path)\n",
        "    print(f'Model saved to ==> {save_path}')\n",
        "\n",
        "\n",
        "def load_checkpoint(load_path, model, optimizer):\n",
        "\n",
        "    if load_path==None:\n",
        "        return\n",
        "    \n",
        "    state_dict = torch.load(load_path, map_location=device)\n",
        "    print(f'Model loaded from <== {load_path}')\n",
        "    \n",
        "    model.load_state_dict(state_dict['model_state_dict'])\n",
        "    optimizer.load_state_dict(state_dict['optimizer_state_dict'])\n",
        "    \n",
        "    return state_dict['valid_loss']\n",
        "\n",
        "\n",
        "def save_metrics(save_path, train_loss_list, valid_loss_list, global_steps_list):\n",
        "\n",
        "    if save_path == None:\n",
        "        return\n",
        "    \n",
        "    state_dict = {'train_loss_list': train_loss_list,\n",
        "                  'valid_loss_list': valid_loss_list,\n",
        "                  'global_steps_list': global_steps_list}\n",
        "    \n",
        "    torch.save(state_dict, save_path)\n",
        "    print(f'Model saved to ==> {save_path}')\n",
        "\n",
        "\n",
        "def load_metrics(load_path):\n",
        "\n",
        "    if load_path==None:\n",
        "        return\n",
        "    \n",
        "    state_dict = torch.load(load_path, map_location=device)\n",
        "    print(f'Model loaded from <== {load_path}')\n",
        "    \n",
        "    return state_dict['train_loss_list'], state_dict['valid_loss_list'], state_dict['global_steps_list']"
      ],
      "execution_count": null,
      "outputs": []
    },
    {
      "cell_type": "markdown",
      "metadata": {
        "id": "h7B74KDQhI4K"
      },
      "source": [
        "## Defining training function"
      ]
    },
    {
      "cell_type": "markdown",
      "metadata": {
        "id": "AhYLCA8AxAf8"
      },
      "source": [
        ""
      ]
    },
    {
      "cell_type": "code",
      "metadata": {
        "id": "VIdXTMqVWVNs"
      },
      "source": [
        "# Training Function\n",
        "\n",
        "def train(model,\n",
        "          optimizer,\n",
        "          criterion = nn.BCELoss(), # binary cross entropy loss\n",
        "          train_loader = train_iter,\n",
        "          valid_loader = valid_iter,\n",
        "          num_epochs = 5,           # these are default epochs\n",
        "          eval_every = len(train_iter) // 2,\n",
        "          file_path = destination_folder,\n",
        "          best_valid_loss = float(\"Inf\")):\n",
        "    \n",
        "    # initialize running values\n",
        "    running_loss = 0.0\n",
        "    valid_running_loss = 0.0\n",
        "    global_step = 0\n",
        "    train_loss_list = []\n",
        "    valid_loss_list = []\n",
        "    global_steps_list = []\n",
        "\n",
        "    # training loop\n",
        "    model.train()\n",
        "    for epoch in range(num_epochs):\n",
        "        for (labels, (title, title_len), (text, text_len), (titletext, titletext_len)), _ in train_loader:           \n",
        "            labels = labels.to(device)\n",
        "            titletext = titletext.to(device)\n",
        "            titletext_len = titletext_len.to(device)\n",
        "            output = model(titletext, titletext_len)\n",
        "\n",
        "            loss = criterion(output, labels)\n",
        "            optimizer.zero_grad()\n",
        "            loss.backward()\n",
        "            optimizer.step()\n",
        "\n",
        "            # update running values\n",
        "            running_loss += loss.item()\n",
        "            global_step += 1\n",
        "\n",
        "            # evaluation step\n",
        "            if global_step % eval_every == 0:\n",
        "                model.eval()\n",
        "                with torch.no_grad():                    \n",
        "                  # validation loop\n",
        "                  for (labels, (title, title_len), (text, text_len), (titletext, titletext_len)), _ in valid_loader:\n",
        "                      labels = labels.to(device)\n",
        "                      titletext = titletext.to(device)\n",
        "                      titletext_len = titletext_len.to(device)\n",
        "                      output = model(titletext, titletext_len)\n",
        "\n",
        "                      loss = criterion(output, labels)\n",
        "                      valid_running_loss += loss.item()\n",
        "\n",
        "                # evaluation\n",
        "                average_train_loss = running_loss / eval_every\n",
        "                average_valid_loss = valid_running_loss / len(valid_loader)\n",
        "                train_loss_list.append(average_train_loss)\n",
        "                valid_loss_list.append(average_valid_loss)\n",
        "                global_steps_list.append(global_step)\n",
        "\n",
        "                # resetting running values\n",
        "                running_loss = 0.0                \n",
        "                valid_running_loss = 0.0\n",
        "                model.train()\n",
        "\n",
        "                # print progress\n",
        "                print('Epoch [{}/{}], Step [{}/{}], Train Loss: {:.4f}, Valid Loss: {:.4f}'\n",
        "                      .format(epoch+1, num_epochs, global_step, num_epochs*len(train_loader),\n",
        "                              average_train_loss, average_valid_loss))\n",
        "                # checkpoint\n",
        "                if best_valid_loss > average_valid_loss:\n",
        "                    best_valid_loss = average_valid_loss\n",
        "                    save_checkpoint(file_path + '/model.pt', model, optimizer, best_valid_loss)\n",
        "                    save_metrics(file_path + '/metrics.pt', train_loss_list, valid_loss_list, global_steps_list)\n",
        "    \n",
        "    save_metrics(file_path + '/metrics.pt', train_loss_list, valid_loss_list, global_steps_list)\n",
        "    print('Finished Training!')"
      ],
      "execution_count": null,
      "outputs": []
    },
    {
      "cell_type": "markdown",
      "metadata": {
        "id": "V32JDigJho6U"
      },
      "source": [
        "## Training the model"
      ]
    },
    {
      "cell_type": "markdown",
      "metadata": {
        "id": "eKsFsMm0xlLo"
      },
      "source": [
        "The LSTM model is trained with 10 epochs and save the checkpoint and metrics whenever a hyperparameter setting achieves the best (lowest) validation loss. Apart from that, learning rate is small with the value 0.001 and optimizer chosen is Adam."
      ]
    },
    {
      "cell_type": "code",
      "metadata": {
        "colab": {
          "base_uri": "https://localhost:8080/"
        },
        "id": "Wf8-I0yjXH69",
        "outputId": "2c781add-7017-4dda-9fc8-e3d8800715ef"
      },
      "source": [
        "model = LSTM().to(device)\n",
        "optimizer = optim.Adam(model.parameters(), lr=0.001)\n",
        "\n",
        "train(model=model, optimizer=optimizer, num_epochs=10)"
      ],
      "execution_count": null,
      "outputs": [
        {
          "output_type": "stream",
          "name": "stdout",
          "text": [
            "Epoch [1/10], Step [55/1110], Train Loss: 0.5173, Valid Loss: 0.3484\n",
            "Model saved to ==> /gdrive/MyDrive//model.pt\n",
            "Model saved to ==> /gdrive/MyDrive//metrics.pt\n",
            "Epoch [1/10], Step [110/1110], Train Loss: 0.1419, Valid Loss: 0.0403\n",
            "Model saved to ==> /gdrive/MyDrive//model.pt\n",
            "Model saved to ==> /gdrive/MyDrive//metrics.pt\n",
            "Epoch [2/10], Step [165/1110], Train Loss: 0.0352, Valid Loss: 0.0424\n",
            "Epoch [2/10], Step [220/1110], Train Loss: 0.0495, Valid Loss: 0.0288\n",
            "Model saved to ==> /gdrive/MyDrive//model.pt\n",
            "Model saved to ==> /gdrive/MyDrive//metrics.pt\n",
            "Epoch [3/10], Step [275/1110], Train Loss: 0.0156, Valid Loss: 0.0228\n",
            "Model saved to ==> /gdrive/MyDrive//model.pt\n",
            "Model saved to ==> /gdrive/MyDrive//metrics.pt\n",
            "Epoch [3/10], Step [330/1110], Train Loss: 0.0138, Valid Loss: 0.0151\n",
            "Model saved to ==> /gdrive/MyDrive//model.pt\n",
            "Model saved to ==> /gdrive/MyDrive//metrics.pt\n",
            "Epoch [4/10], Step [385/1110], Train Loss: 0.0038, Valid Loss: 0.0188\n",
            "Epoch [4/10], Step [440/1110], Train Loss: 0.0047, Valid Loss: 0.0144\n",
            "Model saved to ==> /gdrive/MyDrive//model.pt\n",
            "Model saved to ==> /gdrive/MyDrive//metrics.pt\n",
            "Epoch [5/10], Step [495/1110], Train Loss: 0.0038, Valid Loss: 0.0145\n",
            "Epoch [5/10], Step [550/1110], Train Loss: 0.0012, Valid Loss: 0.0153\n",
            "Epoch [6/10], Step [605/1110], Train Loss: 0.0023, Valid Loss: 0.0135\n",
            "Model saved to ==> /gdrive/MyDrive//model.pt\n",
            "Model saved to ==> /gdrive/MyDrive//metrics.pt\n",
            "Epoch [6/10], Step [660/1110], Train Loss: 0.0008, Valid Loss: 0.0145\n",
            "Epoch [7/10], Step [715/1110], Train Loss: 0.0008, Valid Loss: 0.0143\n",
            "Epoch [7/10], Step [770/1110], Train Loss: 0.0006, Valid Loss: 0.0150\n",
            "Epoch [8/10], Step [825/1110], Train Loss: 0.0005, Valid Loss: 0.0151\n",
            "Epoch [8/10], Step [880/1110], Train Loss: 0.0004, Valid Loss: 0.0156\n",
            "Epoch [9/10], Step [935/1110], Train Loss: 0.0005, Valid Loss: 0.0144\n",
            "Epoch [9/10], Step [990/1110], Train Loss: 0.0003, Valid Loss: 0.0156\n",
            "Epoch [10/10], Step [1045/1110], Train Loss: 0.0002, Valid Loss: 0.0158\n",
            "Epoch [10/10], Step [1100/1110], Train Loss: 0.0002, Valid Loss: 0.0160\n",
            "Model saved to ==> /gdrive/MyDrive//metrics.pt\n",
            "Finished Training!\n"
          ]
        }
      ]
    },
    {
      "cell_type": "markdown",
      "metadata": {
        "id": "OsgSOJN3hvbV"
      },
      "source": [
        "## Plotting training vs validation loss"
      ]
    },
    {
      "cell_type": "code",
      "metadata": {
        "colab": {
          "base_uri": "https://localhost:8080/",
          "height": 297
        },
        "id": "PdK0DgC2XMQt",
        "outputId": "574491c1-936d-4dc8-c966-58fafb89fc41"
      },
      "source": [
        "import matplotlib.pyplot as plt\n",
        "train_loss_list, valid_loss_list, global_steps_list = load_metrics(destination_folder + '/metrics.pt')\n",
        "plt.plot(global_steps_list, train_loss_list, label='Train')\n",
        "plt.plot(global_steps_list, valid_loss_list, label='Valid')\n",
        "plt.xlabel('Global Steps')\n",
        "plt.ylabel('Loss')\n",
        "plt.legend()\n",
        "plt.show() "
      ],
      "execution_count": null,
      "outputs": [
        {
          "output_type": "stream",
          "name": "stdout",
          "text": [
            "Model loaded from <== /gdrive/MyDrive//metrics.pt\n"
          ]
        },
        {
          "output_type": "display_data",
          "data": {
            "image/png": "[encoded data removed]",
            "text/plain": [
              "<Figure size 432x288 with 1 Axes>"
            ]
          },
          "metadata": {
            "needs_background": "light"
          }
        }
      ]
    },
    {
      "cell_type": "markdown",
      "metadata": {
        "id": "2v2g7LZviTh-"
      },
      "source": [
        "The graph shows both the training and validation error have followed similar trajectory and are almost nil after the first few iterations. The model is well trained."
      ]
    },
    {
      "cell_type": "markdown",
      "metadata": {
        "id": "g0NFtb0oivEA"
      },
      "source": [
        "## Defining evaluation function"
      ]
    },
    {
      "cell_type": "code",
      "metadata": {
        "id": "OLoXb2-LXMe3"
      },
      "source": [
        "# Evaluation Function\n",
        "\n",
        "def evaluate(model, test_loader, version='title', threshold=0.5):\n",
        "    y_pred = []\n",
        "    y_true = []\n",
        "\n",
        "    model.eval()\n",
        "    with torch.no_grad():\n",
        "        for (labels, (title, title_len), (text, text_len), (titletext, titletext_len)), _ in test_loader:           \n",
        "            labels = labels.to(device)\n",
        "            titletext = titletext.to(device)\n",
        "            titletext_len = titletext_len.to(device)\n",
        "            output = model(titletext, titletext_len)\n",
        "\n",
        "            output = (output > threshold).int()\n",
        "            y_pred.extend(output.tolist())\n",
        "            y_true.extend(labels.tolist())\n",
        "    \n",
        "    print('Classification Report:')\n",
        "    print(classification_report(y_true, y_pred, labels=[1,0], digits=4))\n",
        "    \n",
        "    cm = confusion_matrix(y_true, y_pred, labels=[1,0])\n",
        "    ax= plt.subplot()\n",
        "    sns.heatmap(cm, annot=True, ax = ax, cmap='Blues', fmt=\"d\")\n",
        "\n",
        "    ax.set_title('Confusion Matrix')\n",
        "\n",
        "    ax.set_xlabel('Predicted Labels')\n",
        "    ax.set_ylabel('True Labels')\n",
        "\n",
        "    ax.xaxis.set_ticklabels(['FAKE', 'REAL'])\n",
        "    ax.yaxis.set_ticklabels(['FAKE', 'REAL'])"
      ],
      "execution_count": null,
      "outputs": []
    },
    {
      "cell_type": "code",
      "metadata": {
        "colab": {
          "base_uri": "https://localhost:8080/",
          "height": 486
        },
        "id": "hkZalzfhXXra",
        "outputId": "31ec7837-5604-49d2-b084-0fbbb4fb27aa"
      },
      "source": [
        "best_model = LSTM().to(device)\n",
        "optimizer = optim.Adam(best_model.parameters(), lr=0.001)\n",
        "\n",
        "load_checkpoint(destination_folder + '/model.pt', best_model, optimizer)\n",
        "evaluate(best_model, test_iter)"
      ],
      "execution_count": null,
      "outputs": [
        {
          "output_type": "stream",
          "name": "stdout",
          "text": [
            "Model loaded from <== /gdrive/MyDrive//model.pt\n",
            "Classification Report:\n",
            "              precision    recall  f1-score   support\n",
            "\n",
            "           1     0.9992    0.9961    0.9976     19275\n",
            "           0     0.9964    0.9992    0.9978     20566\n",
            "\n",
            "    accuracy                         0.9977     39841\n",
            "   macro avg     0.9978    0.9977    0.9977     39841\n",
            "weighted avg     0.9977    0.9977    0.9977     39841\n",
            "\n"
          ]
        },
        {
          "output_type": "display_data",
          "data": {
            "image/png": "[encoded data removed]",
            "text/plain": [
              "<Figure size 432x288 with 2 Axes>"
            ]
          },
          "metadata": {
            "needs_background": "light"
          }
        }
      ]
    },
    {
      "cell_type": "markdown",
      "metadata": {
        "id": "u8pf0z78jJFl"
      },
      "source": [
        "Finally for evaluation, the best model is picked previously saved and evaluate it against the test dataset. I use a default threshold of 0.5 to decide when to classify a sample as FAKE. If the model output is greater than 0.5, news is classified as FAKE; otherwise, REAL. The output of the classification report indicating the precision, recall, and F1-score for each class, as well as the overall accuracy. The one layer biLSTM model gives the accuracy of 99% when tested on test dataset."
      ]
    }
  ]
}